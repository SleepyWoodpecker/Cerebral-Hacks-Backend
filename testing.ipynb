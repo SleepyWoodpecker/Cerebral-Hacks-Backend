{
 "cells": [
  {
   "cell_type": "code",
   "execution_count": 1,
   "metadata": {},
   "outputs": [],
   "source": [
    "from evaluator.evaluate import LLM"
   ]
  },
  {
   "cell_type": "code",
   "execution_count": 2,
   "metadata": {},
   "outputs": [
    {
     "name": "stdout",
     "output_type": "stream",
     "text": [
      "Successfully Connected to Anthropic API\n"
     ]
    }
   ],
   "source": [
    "model = LLM()"
   ]
  },
  {
   "cell_type": "code",
   "execution_count": 3,
   "metadata": {},
   "outputs": [
    {
     "name": "stdout",
     "output_type": "stream",
     "text": [
      "[\n",
      "{\n",
      "\"id\": 1,\n",
      "\"age\": 32,\n",
      "\"gender\": \"Male\",\n",
      "\"location\": \"Tokyo\",\n",
      "\"user_description\": \"Takeshi is a 32-year-old software engineer living in Tokyo. He enjoys an active lifestyle, often going hiking and cycling in the nearby mountains on the weekends. Takeshi is also an avid sports enthusiast, playing basketball and soccer with his coworkers during their lunch breaks. Despite his busy work schedule, he makes time to indulge in his passion for outdoor activities, embracing the natural beauty of Japan's landscape.\"\n",
      "},\n",
      "{\n",
      "\"id\": 2,\n",
      "\"age\": 21,\n",
      "\"gender\": \"Female\",\n",
      "\"location\": \"Osaka\",\n",
      "\"user_description\": \"Emi is a 21-year-old university student studying environmental science in Osaka. She is an adventurous and environmentally conscious individual, frequently going on camping trips with her friends to explore the great outdoors. Emi is also an active member of her school's hiking club, where she enjoys challenging hikes and learning about the local flora and fauna. In her free time, she can be found browsing outdoor gear and apparel stores, always on the lookout for the latest sustainable and high-performance products.\"\n",
      "},\n",
      "{\n",
      "\"id\": 3,\n",
      "\"age\": 28,\n",
      "\"gender\": \"Male\",\n",
      "\"location\": \"Kobe\",\n",
      "\"user_description\": \"Ryuichi is a 28-year-old physical education teacher living in Kobe. He is passionate about promoting a healthy and active lifestyle among his students. Ryuichi regularly organizes outdoor activities, such as hiking trips and sports competitions, to encourage his students to explore the great outdoors and develop a lifelong appreciation for physical fitness. On weekends, he can often be found at the local sporting goods store, browsing the latest equipment and apparel to update his own collection for his outdoor adventures.\"\n",
      "},\n",
      "{\n",
      "\"id\": 4,\n",
      "\"age\": 19,\n",
      "\"gender\": \"Female\",\n",
      "\"location\": \"Sapporo\",\n",
      "\"user_description\": \"Yuki is a 19-year-old college student studying outdoor recreation in Sapporo. She is an avid hiker, mountain biker, and rock climber, constantly seeking out new challenges and exploring the rugged landscapes of Hokkaido. Yuki is an active member of her school's outdoor club, where she organizes group trips and shares her knowledge of nature with her fellow students. In her free time, she can be found browsing outdoor gear stores, researching the latest innovations in equipment and apparel to enhance her outdoor experiences.\"\n",
      "},\n",
      "{\n",
      "\"id\": 5,\n",
      "\"age\": 25,\n",
      "\"gender\": \"Male\",\n",
      "\"location\": \"Nagoya\",\n",
      "\"user_description\": \"Hiroshi is a 25-year-old outdoor enthusiast living in Nagoya. He has a deep appreciation for the natural beauty of Japan and spends his weekends hiking, camping, and kayaking in the nearby mountains and rivers. Hiroshi is an active member of several outdoor clubs, where he shares his knowledge and passion for outdoor activities with like-minded individuals. He is always on the lookout for the latest gear and apparel that can enhance his outdoor adventures, frequently visiting sporting goods stores to stay up-to-date with the latest trends and technologies.\"\n",
      "},\n",
      "{\n",
      "\"id\": 6,\n",
      "\"age\": 22,\n",
      "\"gender\": \"Female\",\n",
      "\"location\": \"Yokohama\",\n",
      "\"user_description\": \"Sakura is a 22-year-old university student living in Yokohama. She is an avid hiker and rock climber, often spending her weekends exploring the nearby mountain ranges and rock climbing gyms. Sakura is an active member of her school's outdoor club, where she organizes group trips and teaches her fellow students the basics of rock climbing and other outdoor activities. In her free time, she can be found browsing outdoor gear stores, researching the latest advancements in climbing equipment and apparel to improve her outdoor skills and performance.\"\n",
      "},\n",
      "{\n",
      "\"id\": 7,\n",
      "\"age\": 27,\n",
      "\"gender\": \"Male\",\n",
      "\"location\": \"Kobe\",\n",
      "\"user_description\": \"Takumi is a 27-year-old outdoor enthusiast living in Kobe. He is an avid cyclist and hiker, often exploring the scenic mountain trails and coastal routes around the city. Takumi is a member of several cycling and hiking clubs, where he organizes group outings and shares his knowledge of the local terrain and wildlife. In his free time, he can be found browsing outdoor gear stores, researching the latest advancements in bicycles, hiking gear, and performance apparel to enhance his outdoor experiences.\"\n",
      "},\n",
      "{\n",
      "\"id\": 8,\n",
      "\"age\": 20,\n",
      "\"gender\": \"Female\",\n",
      "\"location\": \"Sapporo\",\n",
      "\"user_description\": \"Aiko is a 20-year-old college student studying outdoor recreation in Sapporo. She is an adventurous and environmentally conscious individual, frequently going on hiking, camping, and skiing trips with her friends to explore the rugged landscapes of Hokkaido. Aiko is an active member of her school's outdoor club, where she organizes group activities and shares her knowledge of sustainable outdoor practices. In her free time, she can be found browsing outdoor gear stores, researching the latest innovations in eco-friendly and high-performance equipment and apparel.\"\n",
      "},\n",
      "{\n",
      "\"id\": 9,\n",
      "\"age\": 24,\n",
      "\"gender\": \"Male\",\n",
      "\"location\": \"Nagoya\",\n",
      "\"user_description\": \"Takahiro is a 24-year-old outdoor enthusiast living in Nagoya. He is an avid hiker, mountain biker, and rock climber, constantly seeking out new challenges and exploring the natural wonders of central Japan. Takahiro is an active member of several outdoor clubs, where he organizes group trips and shares his knowledge of the local terrain and wildlife. In his free time, he can be found browsing sporting goods stores, researching the latest advancements in outdoor gear and apparel to enhance his athletic performance and safety during his adventures.\"\n",
      "},\n",
      "{\n",
      "\"id\": 10,\n",
      "\"age\": 23,\n",
      "\"gender\": \"Female\",\n",
      "\"location\": \"Yokohama\",\n",
      "\"user_description\": \"Emi is a 23-year-old college student studying environmental science in Yokohama. She is an avid hiker, kayaker, and rock climber, passionate about exploring the natural landscapes of Japan and promoting sustainable outdoor practices. Emi is an active member of her school's outdoor club, where she organizes group trips and teaches her fellow students the importance of environmental stewardship. In her free time, she can be found browsing outdoor gear stores, researching the latest innovations in eco-friendly and high-performance equipment and apparel to enhance her outdoor experiences.\"\n",
      "}\n",
      "]\n"
     ]
    }
   ],
   "source": [
    "profile_response, profile_history = model.generate_user_profiles(\"Japan\", [\n",
    "    \"Sporty\", \"Students\", \"Outdoors\"\n",
    "])\n",
    "\n",
    "print(profile_response)"
   ]
  },
  {
   "cell_type": "code",
   "execution_count": 4,
   "metadata": {},
   "outputs": [
    {
     "name": "stdout",
     "output_type": "stream",
     "text": [
      "[\n",
      "{\n",
      "\"id\": 1,\n",
      "\"rating\": 4,\n",
      "\"explanation\": \"Takeshi would likely find the Martha Stewart Crafts Stencil Tape to be a useful tool for his various DIY projects. As an active individual who enjoys outdoor activities, he may use this tape to create custom stencils for decorating his hiking or camping gear, or even to add personalized designs to his sports equipment. The low-tack adhesive and ease of removal would appeal to Takeshi's practical nature, allowing him to experiment with different designs without causing any damage.\",\n",
      "\"improvement\": \"To make the product more appealing to Takeshi, it could be offered in a wider range of colors or patterns, allowing him to better coordinate with his outdoor gear and personal style. Additionally, including instructions or examples for using the stencil tape in outdoor-themed crafts and projects would further enhance its usefulness for this user.\",\n",
      "\"action\": \"purchase\"\n",
      "},\n",
      "{\n",
      "\"id\": 2,\n",
      "\"rating\": 5,\n",
      "\"explanation\": \"As an environmentally conscious individual, Emi would highly appreciate the Martha Stewart Crafts Stencil Tape. The low-tack adhesive and easy removability would allow her to experiment with various designs and patterns without causing any damage to the surfaces she applies them to, aligning with her sustainable mindset. Emi could use this tape to create custom stencils for her camping gear, outdoor apparel, or even for decorating her living space with nature-inspired motifs.\",\n",
      "\"improvement\": \"To make the product even more attractive to Emi, the manufacturer could consider offering a version of the stencil tape that is made from recycled or sustainable materials, further reinforcing its eco-friendly credentials.\",\n",
      "\"action\": \"purchase\"\n",
      "},\n",
      "{\n",
      "\"id\": 3,\n",
      "\"rating\": 4,\n",
      "\"explanation\": \"Ryuichi, as a physical education teacher, would find the Martha Stewart Crafts Stencil Tape useful for creating custom designs and decorations for his outdoor activities and sports equipment. The tape's ability to hold stencils securely in place and prevent paint bleeding would be valuable for Ryuichi, as he may use it to create personalized markings or logos for his students' sports gear or for decorating the equipment used in his outdoor classes.\",\n",
      "\"improvement\": \"To make the product more appealing to Ryuichi, the manufacturer could consider offering the stencil tape in a wider range of colors, allowing him to better match the designs with the specific sports or activities he is teaching. Additionally, providing educational resources or tutorials on how to use the tape for sports-related crafts and projects would further enhance its usefulness for this user.\",\n",
      "\"action\": \"purchase\"\n",
      "},\n",
      "{\n",
      "\"id\": 4,\n",
      "\"rating\": 5,\n",
      "\"explanation\": \"Yuki, as a college student studying outdoor recreation, would find the Martha Stewart Crafts Stencil Tape to be an invaluable tool for her various outdoor-themed projects and DIY activities. The low-tack adhesive and ease of removal would allow her to experiment with different designs and patterns on her hiking, mountain biking, and rock climbing gear, without worrying about any damage. Yuki could use the stencil tape to create customized decorations, logos, or even safety markings for her outdoor equipment.\",\n",
      "\"improvement\": \"To further enhance the product's appeal to Yuki, the manufacturer could consider offering the stencil tape in additional sizes or formats, allowing her to tackle a wider range of project sizes and shapes. Additionally, including a small collection of pre-made stencil designs inspired by nature or outdoor themes would be a helpful addition for this user.\",\n",
      "\"action\": \"purchase\"\n",
      "},\n",
      "{\n",
      "\"id\": 5,\n",
      "\"rating\": 4,\n",
      "\"explanation\": \"Hiroshi, as an outdoor enthusiast, would find the Martha Stewart Crafts Stencil Tape to be a useful tool for customizing his camping, hiking, and kayaking gear. The low-tack adhesive and easy removability would allow him to experiment with different designs and patterns without worrying about damaging his equipment. Hiroshi could use the stencil tape to create custom decorations, logos, or even labeling for his outdoor gear, enhancing both the functionality and personal touch of his equipment.\",\n",
      "\"improvement\": \"To make the product more appealing to Hiroshi, the manufacturer could consider offering the stencil tape in a wider range of colors, allowing him to better coordinate with the color schemes of his outdoor gear. Additionally, providing instructions or inspiration for using the tape to create outdoor-themed designs would further enhance its usefulness for this user.\",\n",
      "\"action\": \"purchase\"\n",
      "},\n",
      "{\n",
      "\"id\": 6,\n",
      "\"rating\": 5,\n",
      "\"explanation\": \"As an avid hiker and rock climber, Sakura would find the Martha Stewart Crafts Stencil Tape to be an extremely valuable tool for her outdoor activities. The low-tack adhesive and easy removability would allow her to experiment with different designs and patterns on her climbing gear, hiking equipment, and even her outdoor apparel without causing any damage. Sakura could use the stencil tape to create custom decorations, labels, or even safety markings for her gear, enhancing both the functionality and personalization of her outdoor equipment.\",\n",
      "\"improvement\": \"To further enhance the product's appeal to Sakura, the manufacturer could consider offering the stencil tape in a wider range of sizes or shapes, allowing her to tackle a greater variety of project scales and designs. Additionally, including a selection of pre-made stencil designs inspired by nature or outdoor themes would be a helpful addition for this user.\",\n",
      "\"action\": \"purchase\"\n",
      "},\n",
      "{\n",
      "\"id\": 7,\n",
      "\"rating\": 4,\n",
      "\"explanation\": \"Takumi, as an avid cyclist and hiker, would find the Martha Stewart Crafts Stencil Tape to be a useful tool for customizing his outdoor gear and equipment. The low-tack adhesive and easy removability would allow him to experiment with different designs and patterns on his bicycles, hiking backpacks, and other gear without causing any damage. Takumi could use the stencil tape to create personalized decorations, labels, or even safety markings for his outdoor equipment, enhancing both the functionality and visual appeal of his gear.\",\n",
      "\"improvement\": \"To make the product more appealing to Takumi, the manufacturer could consider offering the stencil tape in a wider range of colors or patterns, allowing him to better coordinate with the aesthetic of his outdoor gear. Additionally, providing instructions or inspiration for using the tape to create cycling or hiking-themed designs would further enhance its usefulness for this user.\",\n",
      "\"action\": \"purchase\"\n",
      "},\n",
      "{\n",
      "\"id\": 8,\n",
      "\"rating\": 5,\n",
      "\"explanation\": \"As an environmentally conscious college student studying outdoor recreation, Aiko would greatly appreciate the Martha Stewart Crafts Stencil Tape. The low-tack adhesive and easy removability would allow her to experiment with different eco-friendly designs and patterns on her hiking, camping, and skiing gear without causing any damage. Aiko could use the stencil tape to create personalized decorations, labels, or even safety markings for her outdoor equipment, all while maintaining a sustainable approach.\",\n",
      "\"improvement\": \"To further enhance the product's appeal to Aiko, the manufacturer could consider offering a version of the stencil tape that is made from recycled or sustainable materials, reinforcing its eco-friendly credentials. Additionally, providing a selection of pre-made stencil designs inspired by nature or outdoor themes would be a helpful addition for this user.\",\n",
      "\"action\": \"purchase\"\n",
      "},\n",
      "{\n",
      "\"id\": 9,\n",
      "\"rating\": 4,\n",
      "\"explanation\": \"Takahiro, as an avid hiker, mountain biker, and rock climber, would find the Martha Stewart Crafts Stencil Tape to be a valuable tool for customizing his outdoor gear and equipment. The low-tack adhesive and easy removability would allow him to experiment with different designs and patterns on his hiking backpacks, mountain bikes, and climbing gear without causing any damage. Takahiro could use the stencil tape to create personalized decorations, labels, or even safety markings for his outdoor equipment, enhancing both the functionality and visual appeal of his gear.\",\n",
      "\"improvement\": \"To make the product more appealing to Takahiro, the manufacturer could consider offering the stencil tape in a wider range of colors or patterns, allowing him to better coordinate with the aesthetic of his outdoor gear. Additionally, providing instructions or inspiration for using the tape to create designs inspired by nature or outdoor activities would further enhance its usefulness for this user.\",\n",
      "\"action\": \"purchase\"\n",
      "},\n",
      "{\n",
      "\"id\": 10,\n",
      "\"rating\": 5,\n",
      "\"explanation\": \"As an environmentally conscious college student studying environmental science, Emi would highly appreciate the Martha Stewart Crafts Stencil Tape. The low-tack adhesive and easy removability would allow her to experiment with different eco-friendly designs and patterns on her hiking, kayaking, and rock climbing gear without causing any damage. Emi could use the stencil tape to create personalized decorations, labels, or even safety markings for her outdoor equipment, all while promoting sustainable practices.\",\n",
      "\"improvement\": \"To further enhance the product's appeal to Emi, the manufacturer could consider offering a version of the stencil tape that is made from recycled or sustainable materials, reinforcing its eco-friendly credentials. Additionally, providing a selection of pre-made stencil designs inspired by nature or outdoor themes would be a helpful addition for this user.\",\n",
      "\"action\": \"purchase\"\n",
      "}\n",
      "]\n"
     ]
    }
   ],
   "source": [
    "import json\n",
    "\n",
    "users = json.loads(profile_response)\n",
    "\n",
    "product = {\n",
    "'Product Name': 'Martha Stewart Crafts Stencil Tape, 32292',\n",
    " 'Category': 'Arts, Crafts & Sewing | Crafting | Paper & Paper Crafts | Paper Craft Tools',\n",
    " 'About Product': 'Create plaids, stripes and checkerboards | Low tack adhesive | Easily removed | Holds stencils securely in place | Prevents run under of paint'\n",
    " }\n",
    "\n",
    "image_url = \"https://images-na.ssl-images-amazon.com/images/I/41gxmYiDaRL.jpg%7Chttps://images-na.ssl-images-amazon.com/images/G/01/x-locale/common/transparent-pixel.jpg\"\n",
    "\n",
    "query_response, query_history = model.query_users(users, product, profile_history, image_url=image_url)\n",
    "\n",
    "print(query_response)"
   ]
  },
  {
   "cell_type": "code",
   "execution_count": 5,
   "metadata": {},
   "outputs": [
    {
     "name": "stdout",
     "output_type": "stream",
     "text": [
      "{\n",
      "\"feedback\": \"Overall, the Martha Stewart Crafts Stencil Tape is highly regarded by users for its versatility, sustainability, and customization potential in outdoor-themed projects and gear.\",\n",
      "\"positive\": [\n",
      "\"The low-tack adhesive and easy removability allow users to experiment with different designs without causing damage.\",\n",
      "\"The product appeals to environmentally conscious users who can use it to create custom, eco-friendly decorations and labels for their outdoor equipment.\",\n",
      "\"The stencil tape is seen as a valuable tool for users to personalize and enhance the functionality of their hiking, cycling, and climbing gear.\"\n",
      "],\n",
      "\"improvement\": [\n",
      "\"Offering the stencil tape in a wider range of colors and patterns would allow users to better coordinate with their outdoor gear and personal style.\",\n",
      "\"Providing instructions or inspiration for using the tape to create designs inspired by nature or outdoor activities would further enhance its usefulness.\",\n",
      "\"Considering a version of the product made from recycled or sustainable materials would appeal to the environmentally conscious users.\"\n",
      "}\n"
     ]
    }
   ],
   "source": [
    "evaluation_response, history = model.generate_evaluation(query_history)\n",
    "\n",
    "print(evaluation_response)"
   ]
  },
  {
   "cell_type": "code",
   "execution_count": 6,
   "metadata": {},
   "outputs": [],
   "source": [
    "from evaluator.aggregate import *"
   ]
  },
  {
   "cell_type": "code",
   "execution_count": 7,
   "metadata": {},
   "outputs": [
    {
     "name": "stdout",
     "output_type": "stream",
     "text": [
      "[\n",
      "{\n",
      "\"id\": 1,\n",
      "\"rating\": 4,\n",
      "\"explanation\": \"Takeshi would likely find the Martha Stewart Crafts Stencil Tape to be a useful tool for his various DIY projects. As an active individual who enjoys outdoor activities, he may use this tape to create custom stencils for decorating his hiking or camping gear, or even to add personalized designs to his sports equipment. The low-tack adhesive and ease of removal would appeal to Takeshi's practical nature, allowing him to experiment with different designs without causing any damage.\",\n",
      "\"improvement\": \"To make the product more appealing to Takeshi, it could be offered in a wider range of colors or patterns, allowing him to better coordinate with his outdoor gear and personal style. Additionally, including instructions or examples for using the stencil tape in outdoor-themed crafts and projects would further enhance its usefulness for this user.\",\n",
      "\"action\": \"purchase\"\n",
      "},\n",
      "{\n",
      "\"id\": 2,\n",
      "\"rating\": 5,\n",
      "\"explanation\": \"As an environmentally conscious individual, Emi would highly appreciate the Martha Stewart Crafts Stencil Tape. The low-tack adhesive and easy removability would allow her to experiment with various designs and patterns without causing any damage to the surfaces she applies them to, aligning with her sustainable mindset. Emi could use this tape to create custom stencils for her camping gear, outdoor apparel, or even for decorating her living space with nature-inspired motifs.\",\n",
      "\"improvement\": \"To make the product even more attractive to Emi, the manufacturer could consider offering a version of the stencil tape that is made from recycled or sustainable materials, further reinforcing its eco-friendly credentials.\",\n",
      "\"action\": \"purchase\"\n",
      "},\n",
      "{\n",
      "\"id\": 3,\n",
      "\"rating\": 4,\n",
      "\"explanation\": \"Ryuichi, as a physical education teacher, would find the Martha Stewart Crafts Stencil Tape useful for creating custom designs and decorations for his outdoor activities and sports equipment. The tape's ability to hold stencils securely in place and prevent paint bleeding would be valuable for Ryuichi, as he may use it to create personalized markings or logos for his students' sports gear or for decorating the equipment used in his outdoor classes.\",\n",
      "\"improvement\": \"To make the product more appealing to Ryuichi, the manufacturer could consider offering the stencil tape in a wider range of colors, allowing him to better match the designs with the specific sports or activities he is teaching. Additionally, providing educational resources or tutorials on how to use the tape for sports-related crafts and projects would further enhance its usefulness for this user.\",\n",
      "\"action\": \"purchase\"\n",
      "},\n",
      "{\n",
      "\"id\": 4,\n",
      "\"rating\": 5,\n",
      "\"explanation\": \"Yuki, as a college student studying outdoor recreation, would find the Martha Stewart Crafts Stencil Tape to be an invaluable tool for her various outdoor-themed projects and DIY activities. The low-tack adhesive and ease of removal would allow her to experiment with different designs and patterns on her hiking, mountain biking, and rock climbing gear, without worrying about any damage. Yuki could use the stencil tape to create customized decorations, logos, or even safety markings for her outdoor equipment.\",\n",
      "\"improvement\": \"To further enhance the product's appeal to Yuki, the manufacturer could consider offering the stencil tape in additional sizes or formats, allowing her to tackle a wider range of project sizes and shapes. Additionally, including a small collection of pre-made stencil designs inspired by nature or outdoor themes would be a helpful addition for this user.\",\n",
      "\"action\": \"purchase\"\n",
      "},\n",
      "{\n",
      "\"id\": 5,\n",
      "\"rating\": 4,\n",
      "\"explanation\": \"Hiroshi, as an outdoor enthusiast, would find the Martha Stewart Crafts Stencil Tape to be a useful tool for customizing his camping, hiking, and kayaking gear. The low-tack adhesive and easy removability would allow him to experiment with different designs and patterns without worrying about damaging his equipment. Hiroshi could use the stencil tape to create custom decorations, logos, or even labeling for his outdoor gear, enhancing both the functionality and personal touch of his equipment.\",\n",
      "\"improvement\": \"To make the product more appealing to Hiroshi, the manufacturer could consider offering the stencil tape in a wider range of colors, allowing him to better coordinate with the color schemes of his outdoor gear. Additionally, providing instructions or inspiration for using the tape to create outdoor-themed designs would further enhance its usefulness for this user.\",\n",
      "\"action\": \"purchase\"\n",
      "},\n",
      "{\n",
      "\"id\": 6,\n",
      "\"rating\": 5,\n",
      "\"explanation\": \"As an avid hiker and rock climber, Sakura would find the Martha Stewart Crafts Stencil Tape to be an extremely valuable tool for her outdoor activities. The low-tack adhesive and easy removability would allow her to experiment with different designs and patterns on her climbing gear, hiking equipment, and even her outdoor apparel without causing any damage. Sakura could use the stencil tape to create custom decorations, labels, or even safety markings for her gear, enhancing both the functionality and personalization of her outdoor equipment.\",\n",
      "\"improvement\": \"To further enhance the product's appeal to Sakura, the manufacturer could consider offering the stencil tape in a wider range of sizes or shapes, allowing her to tackle a greater variety of project scales and designs. Additionally, including a selection of pre-made stencil designs inspired by nature or outdoor themes would be a helpful addition for this user.\",\n",
      "\"action\": \"purchase\"\n",
      "},\n",
      "{\n",
      "\"id\": 7,\n",
      "\"rating\": 4,\n",
      "\"explanation\": \"Takumi, as an avid cyclist and hiker, would find the Martha Stewart Crafts Stencil Tape to be a useful tool for customizing his outdoor gear and equipment. The low-tack adhesive and easy removability would allow him to experiment with different designs and patterns on his bicycles, hiking backpacks, and other gear without causing any damage. Takumi could use the stencil tape to create personalized decorations, labels, or even safety markings for his outdoor equipment, enhancing both the functionality and visual appeal of his gear.\",\n",
      "\"improvement\": \"To make the product more appealing to Takumi, the manufacturer could consider offering the stencil tape in a wider range of colors or patterns, allowing him to better coordinate with the aesthetic of his outdoor gear. Additionally, providing instructions or inspiration for using the tape to create cycling or hiking-themed designs would further enhance its usefulness for this user.\",\n",
      "\"action\": \"purchase\"\n",
      "},\n",
      "{\n",
      "\"id\": 8,\n",
      "\"rating\": 5,\n",
      "\"explanation\": \"As an environmentally conscious college student studying outdoor recreation, Aiko would greatly appreciate the Martha Stewart Crafts Stencil Tape. The low-tack adhesive and easy removability would allow her to experiment with different eco-friendly designs and patterns on her hiking, camping, and skiing gear without causing any damage. Aiko could use the stencil tape to create personalized decorations, labels, or even safety markings for her outdoor equipment, all while maintaining a sustainable approach.\",\n",
      "\"improvement\": \"To further enhance the product's appeal to Aiko, the manufacturer could consider offering a version of the stencil tape that is made from recycled or sustainable materials, reinforcing its eco-friendly credentials. Additionally, providing a selection of pre-made stencil designs inspired by nature or outdoor themes would be a helpful addition for this user.\",\n",
      "\"action\": \"purchase\"\n",
      "},\n",
      "{\n",
      "\"id\": 9,\n",
      "\"rating\": 4,\n",
      "\"explanation\": \"Takahiro, as an avid hiker, mountain biker, and rock climber, would find the Martha Stewart Crafts Stencil Tape to be a valuable tool for customizing his outdoor gear and equipment. The low-tack adhesive and easy removability would allow him to experiment with different designs and patterns on his hiking backpacks, mountain bikes, and climbing gear without causing any damage. Takahiro could use the stencil tape to create personalized decorations, labels, or even safety markings for his outdoor equipment, enhancing both the functionality and visual appeal of his gear.\",\n",
      "\"improvement\": \"To make the product more appealing to Takahiro, the manufacturer could consider offering the stencil tape in a wider range of colors or patterns, allowing him to better coordinate with the aesthetic of his outdoor gear. Additionally, providing instructions or inspiration for using the tape to create designs inspired by nature or outdoor activities would further enhance its usefulness for this user.\",\n",
      "\"action\": \"purchase\"\n",
      "},\n",
      "{\n",
      "\"id\": 10,\n",
      "\"rating\": 5,\n",
      "\"explanation\": \"As an environmentally conscious college student studying environmental science, Emi would highly appreciate the Martha Stewart Crafts Stencil Tape. The low-tack adhesive and easy removability would allow her to experiment with different eco-friendly designs and patterns on her hiking, kayaking, and rock climbing gear without causing any damage. Emi could use the stencil tape to create personalized decorations, labels, or even safety markings for her outdoor equipment, all while promoting sustainable practices.\",\n",
      "\"improvement\": \"To further enhance the product's appeal to Emi, the manufacturer could consider offering a version of the stencil tape that is made from recycled or sustainable materials, reinforcing its eco-friendly credentials. Additionally, providing a selection of pre-made stencil designs inspired by nature or outdoor themes would be a helpful addition for this user.\",\n",
      "\"action\": \"purchase\"\n",
      "}\n",
      "]\n"
     ]
    }
   ],
   "source": [
    "print(query_response)"
   ]
  },
  {
   "cell_type": "code",
   "execution_count": 8,
   "metadata": {},
   "outputs": [],
   "source": [
    "query_response_json = json.loads(query_response)"
   ]
  },
  {
   "cell_type": "code",
   "execution_count": 9,
   "metadata": {},
   "outputs": [
    {
     "data": {
      "text/plain": [
       "4.5"
      ]
     },
     "execution_count": 9,
     "metadata": {},
     "output_type": "execute_result"
    }
   ],
   "source": [
    "average_rating(query_response_json)"
   ]
  },
  {
   "cell_type": "code",
   "execution_count": 10,
   "metadata": {},
   "outputs": [
    {
     "data": {
      "text/plain": [
       "{'purchase': 10, 'like': 0, 'view': 0, 'total': 10}"
      ]
     },
     "execution_count": 10,
     "metadata": {},
     "output_type": "execute_result"
    }
   ],
   "source": [
    "action_breakdown(query_response_json)"
   ]
  },
  {
   "cell_type": "code",
   "execution_count": 11,
   "metadata": {},
   "outputs": [
    {
     "name": "stdout",
     "output_type": "stream",
     "text": [
      "Requirement already satisfied: python-dotenv in c:\\users\\jiang\\desktop\\work\\web\\cerebral-hacks-backend\\venv\\lib\\site-packages (1.0.1)\n",
      "Note: you may need to restart the kernel to use updated packages.\n"
     ]
    }
   ],
   "source": [
    "%pip install python-dotenv"
   ]
  }
 ],
 "metadata": {
  "kernelspec": {
   "display_name": "venv",
   "language": "python",
   "name": "python3"
  },
  "language_info": {
   "codemirror_mode": {
    "name": "ipython",
    "version": 3
   },
   "file_extension": ".py",
   "mimetype": "text/x-python",
   "name": "python",
   "nbconvert_exporter": "python",
   "pygments_lexer": "ipython3",
   "version": "3.12.7"
  }
 },
 "nbformat": 4,
 "nbformat_minor": 2
}
