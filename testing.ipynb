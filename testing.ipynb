{
 "cells": [
  {
   "cell_type": "code",
   "execution_count": 1,
   "metadata": {},
   "outputs": [],
   "source": [
    "from evaluator.evaluate import LLM"
   ]
  },
  {
   "cell_type": "code",
   "execution_count": 2,
   "metadata": {},
   "outputs": [
    {
     "name": "stdout",
     "output_type": "stream",
     "text": [
      "Successfully Connected to Anthropic API\n"
     ]
    }
   ],
   "source": [
    "model = LLM()"
   ]
  },
  {
   "cell_type": "code",
   "execution_count": 3,
   "metadata": {},
   "outputs": [
    {
     "name": "stdout",
     "output_type": "stream",
     "text": [
      "Here is a summary of the sales data on electronics:\n",
      "\n",
      "1. The data contains information on 110 unique users, with user IDs ranging from 1 to 110.\n",
      "\n",
      "2. The age of the users ranges from 18 to 70 years old, with the majority of users being male.\n",
      "\n",
      "3. The data includes a wide variety of electronic products, such as clothing, outerwear, accessories, footwear, and other miscellaneous items. The most popular categories are Clothing (43%), Outerwear (16%), and Accessories (16%).\n",
      "\n",
      "4. The products were purchased across various locations, with the top locations being California, Texas, and New York.\n",
      "\n",
      "5. The products were purchased with varying frequencies, with the most common being Weekly (22%), Fortnightly (16%), and Monthly (13%).\n",
      "\n",
      "6. The review ratings for the products range from 2.6 to 5.0, with an average rating of 3.8.\n",
      "\n",
      "7. The selling prices of the products range from $3.12 to $249.99, with an average price of $34.36.\n",
      "\n",
      "8. The most common interaction type with the products is \"purchase\" (53%), followed by \"like\" (36%) and \"view\" (11%).\n",
      "\n",
      "Overall, the data provides a comprehensive overview of the electronics sales, including user demographics, product information, purchasing behavior, and customer satisfaction.\n"
     ]
    }
   ],
   "source": [
    "print(model.generate_summary())"
   ]
  },
  {
   "cell_type": "code",
   "execution_count": 3,
   "metadata": {},
   "outputs": [
    {
     "name": "stdout",
     "output_type": "stream",
     "text": [
      "[\n",
      "{\n",
      "\"id\": 1,\n",
      "\"age\": 45,\n",
      "\"gender\": \"Male\",\n",
      "\"location\": \"Oregon\",\n",
      "\"user_description\": \"John, a 45-year-old male living in Oregon, enjoys a diverse range of fashion items. His purchasing history shows he has bought items across different categories, including clothing, outerwear, and accessories. He seems to have a preference for blouses, pants, and jackets, and he tends to make purchases on a seasonal basis, with some items purchased annually or quarterly. John's review ratings suggest he is generally satisfied with his purchases, though he may be selective in his choices.\"\n",
      "},\n",
      "{\n",
      "\"id\": 2,\n",
      "\"age\": 33,\n",
      "\"gender\": \"Male\",\n",
      "\"location\": \"West Virginia\",\n",
      "\"user_description\": \"Michael, a 33-year-old male living in West Virginia, has a varied shopping history. He has purchased items such as coats, dresses, and sunglasses, indicating a diverse fashion sense. His purchasing frequency ranges from weekly to annually, suggesting he keeps up with the latest trends and styles. Michael's review ratings indicate he is generally pleased with his purchases, though he may be more selective in certain categories.\"\n",
      "},\n",
      "{\n",
      "\"id\": 3,\n",
      "\"age\": 57,\n",
      "\"gender\": \"Male\",\n",
      "\"location\": \"Montana\",\n",
      "\"user_description\": \"William, a 57-year-old male living in Montana, has a preference for more practical and versatile fashion items. His purchasing history includes clothing, outerwear, and accessories, with a focus on items like shirts, coats, and jewelry. William's purchasing frequency varies, with some items purchased monthly or quarterly, indicating he updates his wardrobe regularly. His review ratings suggest he is satisfied with his purchases, though he may be more discerning in certain categories.\"\n",
      "},\n",
      "{\n",
      "\"id\": 4,\n",
      "\"age\": 26,\n",
      "\"gender\": \"Male\",\n",
      "\"location\": \"West Virginia\",\n",
      "\"user_description\": \"David, a 26-year-old male living in West Virginia, has a diverse shopping history. He has purchased a range of clothing items, including coats, dresses, and shorts, as well as accessories like sunglasses and belts. David's purchasing frequency varies, with some items purchased weekly or annually, indicating he keeps up with the latest trends but also has a practical approach to his wardrobe. His review ratings suggest he is generally satisfied with his purchases.\"\n",
      "},\n",
      "{\n",
      "\"id\": 5,\n",
      "\"age\": 63,\n",
      "\"gender\": \"Male\",\n",
      "\"location\": \"Montana\",\n",
      "\"user_description\": \"Robert, a 63-year-old male living in Montana, has a preference for more classic and timeless fashion items. His purchasing history includes clothing, outerwear, and accessories, with a focus on items like shirts, coats, and scarves. Robert's purchasing frequency is generally quarterly or annually, suggesting he updates his wardrobe in a more measured and thoughtful manner. His review ratings indicate he is satisfied with his purchases, though he may be more selective in certain categories.\"\n",
      "},\n",
      "{\n",
      "\"id\": 6,\n",
      "\"age\": 21,\n",
      "\"gender\": \"Male\",\n",
      "\"location\": \"Rhode Island\",\n",
      "\"user_description\": \"Jacob, a 21-year-old male living in Rhode Island, has a varied shopping history. He has purchased a range of clothing items, including pants, sandals, and jackets, as well as accessories like sunglasses. Jacob's purchasing frequency varies, with some items purchased weekly or annually, indicating he keeps up with the latest trends but also has a practical approach to his wardrobe. His review ratings suggest he is generally satisfied with his purchases.\"\n",
      "},\n",
      "{\n",
      "\"id\": 7,\n",
      "\"age\": 50,\n",
      "\"gender\": \"Male\",\n",
      "\"location\": \"Massachusetts\",\n",
      "\"user_description\": \"Matthew, a 50-year-old male living in Massachusetts, has a diverse shopping history. He has purchased a range of clothing items, including jeans, blouses, and sweaters, as well as accessories like jewelry and scarves. Matthew's purchasing frequency varies, with some items purchased weekly or annually, suggesting he keeps up with the latest trends and also has a practical approach to his wardrobe. His review ratings indicate he is generally satisfied with his purchases.\"\n",
      "},\n",
      "{\n",
      "\"id\": 8,\n",
      "\"age\": 30,\n",
      "\"gender\": \"Male\",\n",
      "\"location\": \"North Carolina\",\n",
      "\"user_description\": \"Christopher, a 30-year-old male living in North Carolina, has a varied shopping history. He has purchased a range of clothing items, including dresses, pants, and shorts, as well as accessories like handbags and sunglasses. Christopher's purchasing frequency varies, with some items purchased weekly or quarterly, suggesting he keeps up with the latest trends and also has a practical approach to his wardrobe. His review ratings indicate he is generally satisfied with his purchases.\"\n",
      "},\n",
      "{\n",
      "\"id\": 9,\n",
      "\"age\": 65,\n",
      "\"gender\": \"Male\",\n",
      "\"location\": \"Rhode Island\",\n",
      "\"user_description\": \"David, a 65-year-old male living in Rhode Island, has a preference for more classic and timeless fashion items. His purchasing history includes clothing, outerwear, and accessories, with a focus on items like coats, pants, and scarves. David's purchasing frequency is generally quarterly or annually, suggesting he updates his wardrobe in a more measured and thoughtful manner. His review ratings indicate he is satisfied with his purchases, though he may be more selective in certain categories.\"\n",
      "},\n",
      "{\n",
      "\"id\": 10,\n",
      "\"age\": 53,\n",
      "\"gender\": \"Male\",\n",
      "\"location\": \"Arkansas\",\n",
      "\"user_description\": \"Michael, a 53-year-old male living in Arkansas, has a diverse shopping history. He has purchased a range of clothing items, including shoes, dresses, and coats, as well as accessories like sunglasses and belts. Michael's purchasing frequency varies, with some items purchased bi-weekly or annually, indicating he keeps up with the latest trends but also has a practical approach to his wardrobe. His review ratings suggest he is generally satisfied with his purchases.\"\n",
      "}\n",
      "]\n"
     ]
    }
   ],
   "source": [
    "print(model.generate_user_profiles())"
   ]
  }
 ],
 "metadata": {
  "kernelspec": {
   "display_name": "venv",
   "language": "python",
   "name": "python3"
  },
  "language_info": {
   "codemirror_mode": {
    "name": "ipython",
    "version": 3
   },
   "file_extension": ".py",
   "mimetype": "text/x-python",
   "name": "python",
   "nbconvert_exporter": "python",
   "pygments_lexer": "ipython3",
   "version": "3.12.7"
  }
 },
 "nbformat": 4,
 "nbformat_minor": 2
}
