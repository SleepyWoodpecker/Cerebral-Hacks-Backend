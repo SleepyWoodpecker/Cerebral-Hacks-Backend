{
 "cells": [
  {
   "cell_type": "code",
   "execution_count": 1,
   "metadata": {},
   "outputs": [],
   "source": [
    "from evaluator.evaluate import LLM"
   ]
  },
  {
   "cell_type": "code",
   "execution_count": 2,
   "metadata": {},
   "outputs": [
    {
     "name": "stdout",
     "output_type": "stream",
     "text": [
      "Successfully Connected to Anthropic API\n"
     ]
    }
   ],
   "source": [
    "model = LLM()"
   ]
  },
  {
   "cell_type": "code",
   "execution_count": 3,
   "metadata": {},
   "outputs": [
    {
     "name": "stdout",
     "output_type": "stream",
     "text": [
      "[\n",
      "{\n",
      "\"id\": 1,\n",
      "\"age\": 28,\n",
      "\"gender\": \"Male\",\n",
      "\"location\": \"Tokyo\",\n",
      "\"user_description\": \"Takeshi is a 28-year-old sports enthusiast living in Tokyo. He enjoys outdoor activities like hiking and mountain biking, and is an avid follower of the latest sports trends. Takeshi frequently visits outdoor gear shops to update his collection of sportswear and equipment, often purchasing items such as hiking backpacks, cycling gloves, and performance t-shirts.\"\n",
      "},\n",
      "{\n",
      "\"id\": 2,\n",
      "\"age\": 20,\n",
      "\"gender\": \"Female\",\n",
      "\"location\": \"Osaka\",\n",
      "\"user_description\": \"Emi is a 20-year-old college student living in Osaka. She is passionate about nature and the outdoors, and often spends her free time exploring local parks and hiking trails. Emi enjoys shopping for practical and fashionable outdoor gear, such as lightweight hiking boots, insulated jackets, and portable camping equipment, to support her active lifestyle.\"\n",
      "},\n",
      "{\n",
      "\"id\": 3,\n",
      "\"age\": 35,\n",
      "\"gender\": \"Male\",\n",
      "\"location\": \"Kyoto\",\n",
      "\"user_description\": \"Kenji is a 35-year-old outdoor enthusiast living in Kyoto. He loves to spend his weekends hiking in the nearby mountains and participating in outdoor sports like rock climbing and kayaking. Kenji is always on the lookout for the latest outdoor gear and accessories, frequently purchasing items such as climbing harnesses, water bottles, and portable solar chargers to support his adventurous hobbies.\"\n",
      "},\n",
      "{\n",
      "\"id\": 4,\n",
      "\"age\": 22,\n",
      "\"gender\": \"Female\",\n",
      "\"location\": \"Kobe\",\n",
      "\"user_description\": \"Yuki is a 22-year-old college student living in Kobe. She is an active member of her university's outdoor club and enjoys hiking, camping, and mountain biking with her friends. Yuki often shops for practical and stylish outdoor apparel, such as lightweight hiking pants, breathable base layers, and durable backpacks, to prepare for her next outdoor excursion.\"\n",
      "},\n",
      "{\n",
      "\"id\": 5,\n",
      "\"age\": 30,\n",
      "\"gender\": \"Male\",\n",
      "\"location\": \"Nagoya\",\n",
      "\"user_description\": \"Hiroshi is a 30-year-old outdoor enthusiast living in Nagoya. He is an avid hiker and backpacker, and frequently explores the rugged terrain of the nearby mountain ranges. Hiroshi is always on the lookout for the latest and most innovative outdoor gear, regularly purchasing items like high-performance hiking boots, ultralight tents, and portable water filtration systems to support his adventurous lifestyle.\"\n",
      "},\n",
      "{\n",
      "\"id\": 6,\n",
      "\"age\": 24,\n",
      "\"gender\": \"Female\",\n",
      "\"location\": \"Sapporo\",\n",
      "\"user_description\": \"Aya is a 24-year-old college student living in Sapporo. She is an active member of her university's outdoor club and enjoys participating in a variety of outdoor activities, including hiking, camping, and rock climbing. Aya is always on the lookout for the latest and most stylish outdoor apparel and equipment, frequently purchasing items such as technical climbing harnesses, waterproof jackets, and portable power banks to support her active lifestyle.\"\n",
      "},\n",
      "{\n",
      "\"id\": 7,\n",
      "\"age\": 32,\n",
      "\"gender\": \"Male\",\n",
      "\"location\": \"Kobe\",\n",
      "\"user_description\": \"Takuma is a 32-year-old outdoor enthusiast living in Kobe. He is an avid hiker, mountain biker, and rock climber, and frequently explores the rugged terrain of the nearby mountains. Takuma is always on the lookout for the latest and most innovative outdoor gear, regularly purchasing items like high-performance cycling helmets, lightweight backpacking stoves, and durable trekking poles to support his adventurous lifestyle.\"\n",
      "},\n",
      "{\n",
      "\"id\": 8,\n",
      "\"age\": 26,\n",
      "\"gender\": \"Female\",\n",
      "\"location\": \"Yokohama\",\n",
      "\"user_description\": \"Sakura is a 26-year-old college student living in Yokohama. She is an active member of her university's outdoor club and enjoys participating in a variety of outdoor activities, including hiking, camping, and kayaking. Sakura is always on the lookout for the latest and most practical outdoor apparel and equipment, frequently purchasing items such as waterproof rain jackets, portable camping lanterns, and lightweight hiking shoes to support her active lifestyle.\"\n",
      "},\n",
      "{\n",
      "\"id\": 9,\n",
      "\"age\": 29,\n",
      "\"gender\": \"Male\",\n",
      "\"location\": \"Fukuoka\",\n",
      "\"user_description\": \"Ryota is a 29-year-old outdoor enthusiast living in Fukuoka. He is an avid hiker, mountain biker, and rock climber, and frequently explores the rugged terrain of the nearby mountains. Ryota is always on the lookout for the latest and most innovative outdoor gear, regularly purchasing items like high-performance sports sunglasses, durable camping hammocks, and lightweight trekking poles to support his adventurous lifestyle.\"\n",
      "},\n",
      "{\n",
      "\"id\": 10,\n",
      "\"age\": 21,\n",
      "\"gender\": \"Female\",\n",
      "\"location\": \"Hiroshima\",\n",
      "\"user_description\": \"Akiko is a 21-year-old college student living in Hiroshima. She is an active member of her university's outdoor club and enjoys participating in a variety of outdoor activities, including hiking, camping, and kayaking. Akiko is always on the lookout for the latest and most stylish outdoor apparel and equipment, frequently purchasing items such as lightweight hiking backpacks, versatile outdoor accessories, and portable camping chairs to support her active lifestyle.\"\n",
      "}\n",
      "]\n"
     ]
    }
   ],
   "source": [
    "profile_response, profile_history = model.generate_user_profiles(\"Japan\", [\n",
    "    \"Sporty\", \"Students\", \"Outdoors\"\n",
    "])\n",
    "\n",
    "print(profile_response)"
   ]
  },
  {
   "cell_type": "code",
   "execution_count": 4,
   "metadata": {},
   "outputs": [
    {
     "name": "stdout",
     "output_type": "stream",
     "text": [
      "[\n",
      "{\n",
      "\"id\": 1,\n",
      "\"rating\": 3,\n",
      "\"explanation\": \"Takeshi is an outdoor enthusiast who is more interested in functional gear for his active lifestyle. While the Martha Stewart Crafts Stencil Tape could be useful for some of his hobbies, such as customizing his outdoor equipment, it is not a high priority item for him.\",\n",
      "\"improvement\": \"To make this product more appealing to Takeshi, the manufacturer could consider offering a version that is more durable and water-resistant, making it suitable for use in outdoor environments.\",\n",
      "\"action\": \"view\"\n",
      "},\n",
      "{\n",
      "\"id\": 2,\n",
      "\"rating\": 4,\n",
      "\"explanation\": \"Emi, as a college student passionate about nature and the outdoors, may find the Martha Stewart Crafts Stencil Tape useful for personalization and DIY projects related to her outdoor gear and camping equipment. The product's versatility in creating patterns and designs could be a good fit for her interests.\",\n",
      "\"improvement\": \"To further enhance the product's appeal to Emi, the manufacturer could consider offering a wider range of vibrant, nature-inspired color options that would complement her outdoor-focused lifestyle.\",\n",
      "\"action\": \"like\"\n",
      "},\n",
      "{\n",
      "\"id\": 3,\n",
      "\"rating\": 3,\n",
      "\"explanation\": \"Kenji, as an avid outdoor enthusiast, is more likely to be interested in specialized gear and equipment for his outdoor activities, such as rock climbing and kayaking. While the Martha Stewart Crafts Stencil Tape could be used for customizing some of his gear, it may not be a top priority for him.\",\n",
      "\"improvement\": \"To make this product more appealing to Kenji, the manufacturer could consider offering a version that is specifically designed for outdoor use, with features like water-resistance and improved durability to withstand the demands of his adventurous hobbies.\",\n",
      "\"action\": \"view\"\n",
      "},\n",
      "{\n",
      "\"id\": 4,\n",
      "\"rating\": 4,\n",
      "\"explanation\": \"Yuki, as an active college student and member of her university's outdoor club, may find the Martha Stewart Crafts Stencil Tape useful for personalizing her outdoor apparel and equipment. The product's versatility in creating patterns and designs could be a good fit for her interests.\",\n",
      "\"improvement\": \"To further enhance the product's appeal to Yuki, the manufacturer could consider offering a wider range of nature-inspired color options and designs that would complement her active outdoor lifestyle.\",\n",
      "\"action\": \"like\"\n",
      "},\n",
      "{\n",
      "\"id\": 5,\n",
      "\"rating\": 3,\n",
      "\"explanation\": \"Hiroshi, as an avid hiker and backpacker, is more likely to be interested in specialized outdoor gear and equipment that can withstand the rigors of his adventurous hobbies. While the Martha Stewart Crafts Stencil Tape could be used for some customization, it may not be a top priority for him.\",\n",
      "\"improvement\": \"To make this product more appealing to Hiroshi, the manufacturer could consider offering a version that is specifically designed for outdoor use, with features like water-resistance and improved durability to better suit his active lifestyle.\",\n",
      "\"action\": \"view\"\n",
      "},\n",
      "{\n",
      "\"id\": 6,\n",
      "\"rating\": 4,\n",
      "\"explanation\": \"Aya, as an active college student and member of her university's outdoor club, may find the Martha Stewart Crafts Stencil Tape useful for personalizing her outdoor apparel and equipment. The product's versatility in creating patterns and designs could be a good fit for her interests.\",\n",
      "\"improvement\": \"To further enhance the product's appeal to Aya, the manufacturer could consider offering a wider range of nature-inspired color options and designs that would complement her active outdoor lifestyle.\",\n",
      "\"action\": \"like\"\n",
      "},\n",
      "{\n",
      "\"id\": 7,\n",
      "\"rating\": 3,\n",
      "\"explanation\": \"Takuma, as an outdoor enthusiast who enjoys activities like hiking, mountain biking, and rock climbing, is more likely to be interested in specialized outdoor gear and equipment that can withstand the demands of his adventurous hobbies. While the Martha Stewart Crafts Stencil Tape could be used for some customization, it may not be a top priority for him.\",\n",
      "\"improvement\": \"To make this product more appealing to Takuma, the manufacturer could consider offering a version that is specifically designed for outdoor use, with features like water-resistance and improved durability to better suit his active lifestyle.\",\n",
      "\"action\": \"view\"\n",
      "},\n",
      "{\n",
      "\"id\": 8,\n",
      "\"rating\": 4,\n",
      "\"explanation\": \"Sakura, as an active college student and member of her university's outdoor club, may find the Martha Stewart Crafts Stencil Tape useful for personalizing her outdoor apparel and equipment. The product's versatility in creating patterns and designs could be a good fit for her interests.\",\n",
      "\"improvement\": \"To further enhance the product's appeal to Sakura, the manufacturer could consider offering a wider range of nature-inspired color options and designs that would complement her active outdoor lifestyle.\",\n",
      "\"action\": \"like\"\n",
      "},\n",
      "{\n",
      "\"id\": 9,\n",
      "\"rating\": 3,\n",
      "\"explanation\": \"Ryota, as an outdoor enthusiast who enjoys activities like hiking, mountain biking, and rock climbing, is more likely to be interested in specialized outdoor gear and equipment that can withstand the demands of his adventurous hobbies. While the Martha Stewart Crafts Stencil Tape could be used for some customization, it may not be a top priority for him.\",\n",
      "\"improvement\": \"To make this product more appealing to Ryota, the manufacturer could consider offering a version that is specifically designed for outdoor use, with features like water-resistance and improved durability to better suit his active lifestyle.\",\n",
      "\"action\": \"view\"\n",
      "},\n",
      "{\n",
      "\"id\": 10,\n",
      "\"rating\": 4,\n",
      "\"explanation\": \"Akiko, as an active college student and member of her university's outdoor club, may find the Martha Stewart Crafts Stencil Tape useful for personalizing her outdoor apparel and equipment. The product's versatility in creating patterns and designs could be a good fit for her interests.\",\n",
      "\"improvement\": \"To further enhance the product's appeal to Akiko, the manufacturer could consider offering a wider range of nature-inspired color options and designs that would complement her active outdoor lifestyle.\",\n",
      "\"action\": \"like\"\n",
      "}\n",
      "]\n"
     ]
    }
   ],
   "source": [
    "import json\n",
    "\n",
    "users = json.loads(profile_response)\n",
    "\n",
    "product = {\n",
    "'Product Name': 'Martha Stewart Crafts Stencil Tape, 32292',\n",
    " 'Category': 'Arts, Crafts & Sewing | Crafting | Paper & Paper Crafts | Paper Craft Tools',\n",
    " 'About Product': 'Create plaids, stripes and checkerboards | Low tack adhesive | Easily removed | Holds stencils securely in place | Prevents run under of paint'\n",
    " }\n",
    "\n",
    "image_url = \"https://images-na.ssl-images-amazon.com/images/I/41gxmYiDaRL.jpg%7Chttps://images-na.ssl-images-amazon.com/images/G/01/x-locale/common/transparent-pixel.jpg\"\n",
    "\n",
    "query_response, query_history = model.query_users(users, product, profile_history, image_url=image_url)\n",
    "\n",
    "print(query_response)"
   ]
  },
  {
   "cell_type": "code",
   "execution_count": 5,
   "metadata": {},
   "outputs": [
    {
     "name": "stdout",
     "output_type": "stream",
     "text": [
      "{\n",
      "\"feedback\": \"The Martha Stewart Crafts Stencil Tape is perceived as a versatile product that could be useful for personalization and DIY projects, especially for users interested in outdoor activities and equipment.\",\n",
      "\"positive\": [\n",
      "\"Versatile in creating patterns and designs\",\n",
      "\"Potential for customizing outdoor gear and equipment\",\n",
      "\"Could be a good fit for users with creative hobbies and interests\"\n",
      "],\n",
      "\"improvement\": [\n",
      "\"Offer more durable and water-resistant versions for outdoor use\",\n",
      "\"Provide a wider range of nature-inspired color options and designs\",\n",
      "\"Enhance product features to better suit the needs of active outdoor enthusiasts\"\n",
      "],\n",
      "\"keywords\": [\"versatile\", \"personalization\", \"DIY\", \"outdoor\", \"creative\", \"durable\", \"water-resistant\", \"nature-inspired\"],\n",
      "\"bestSeason\": \"spring\"\n",
      "}\n"
     ]
    }
   ],
   "source": [
    "evaluation_response, history = model.generate_evaluation(query_history)\n",
    "\n",
    "print(evaluation_response)"
   ]
  },
  {
   "cell_type": "code",
   "execution_count": 6,
   "metadata": {},
   "outputs": [],
   "source": [
    "from evaluator.aggregate import *"
   ]
  },
  {
   "cell_type": "code",
   "execution_count": 7,
   "metadata": {},
   "outputs": [
    {
     "name": "stdout",
     "output_type": "stream",
     "text": [
      "[\n",
      "{\n",
      "\"id\": 1,\n",
      "\"rating\": 3,\n",
      "\"explanation\": \"Takeshi is an outdoor enthusiast who is more interested in functional gear for his active lifestyle. While the Martha Stewart Crafts Stencil Tape could be useful for some of his hobbies, such as customizing his outdoor equipment, it is not a high priority item for him.\",\n",
      "\"improvement\": \"To make this product more appealing to Takeshi, the manufacturer could consider offering a version that is more durable and water-resistant, making it suitable for use in outdoor environments.\",\n",
      "\"action\": \"view\"\n",
      "},\n",
      "{\n",
      "\"id\": 2,\n",
      "\"rating\": 4,\n",
      "\"explanation\": \"Emi, as a college student passionate about nature and the outdoors, may find the Martha Stewart Crafts Stencil Tape useful for personalization and DIY projects related to her outdoor gear and camping equipment. The product's versatility in creating patterns and designs could be a good fit for her interests.\",\n",
      "\"improvement\": \"To further enhance the product's appeal to Emi, the manufacturer could consider offering a wider range of vibrant, nature-inspired color options that would complement her outdoor-focused lifestyle.\",\n",
      "\"action\": \"like\"\n",
      "},\n",
      "{\n",
      "\"id\": 3,\n",
      "\"rating\": 3,\n",
      "\"explanation\": \"Kenji, as an avid outdoor enthusiast, is more likely to be interested in specialized gear and equipment for his outdoor activities, such as rock climbing and kayaking. While the Martha Stewart Crafts Stencil Tape could be used for customizing some of his gear, it may not be a top priority for him.\",\n",
      "\"improvement\": \"To make this product more appealing to Kenji, the manufacturer could consider offering a version that is specifically designed for outdoor use, with features like water-resistance and improved durability to withstand the demands of his adventurous hobbies.\",\n",
      "\"action\": \"view\"\n",
      "},\n",
      "{\n",
      "\"id\": 4,\n",
      "\"rating\": 4,\n",
      "\"explanation\": \"Yuki, as an active college student and member of her university's outdoor club, may find the Martha Stewart Crafts Stencil Tape useful for personalizing her outdoor apparel and equipment. The product's versatility in creating patterns and designs could be a good fit for her interests.\",\n",
      "\"improvement\": \"To further enhance the product's appeal to Yuki, the manufacturer could consider offering a wider range of nature-inspired color options and designs that would complement her active outdoor lifestyle.\",\n",
      "\"action\": \"like\"\n",
      "},\n",
      "{\n",
      "\"id\": 5,\n",
      "\"rating\": 3,\n",
      "\"explanation\": \"Hiroshi, as an avid hiker and backpacker, is more likely to be interested in specialized outdoor gear and equipment that can withstand the rigors of his adventurous hobbies. While the Martha Stewart Crafts Stencil Tape could be used for some customization, it may not be a top priority for him.\",\n",
      "\"improvement\": \"To make this product more appealing to Hiroshi, the manufacturer could consider offering a version that is specifically designed for outdoor use, with features like water-resistance and improved durability to better suit his active lifestyle.\",\n",
      "\"action\": \"view\"\n",
      "},\n",
      "{\n",
      "\"id\": 6,\n",
      "\"rating\": 4,\n",
      "\"explanation\": \"Aya, as an active college student and member of her university's outdoor club, may find the Martha Stewart Crafts Stencil Tape useful for personalizing her outdoor apparel and equipment. The product's versatility in creating patterns and designs could be a good fit for her interests.\",\n",
      "\"improvement\": \"To further enhance the product's appeal to Aya, the manufacturer could consider offering a wider range of nature-inspired color options and designs that would complement her active outdoor lifestyle.\",\n",
      "\"action\": \"like\"\n",
      "},\n",
      "{\n",
      "\"id\": 7,\n",
      "\"rating\": 3,\n",
      "\"explanation\": \"Takuma, as an outdoor enthusiast who enjoys activities like hiking, mountain biking, and rock climbing, is more likely to be interested in specialized outdoor gear and equipment that can withstand the demands of his adventurous hobbies. While the Martha Stewart Crafts Stencil Tape could be used for some customization, it may not be a top priority for him.\",\n",
      "\"improvement\": \"To make this product more appealing to Takuma, the manufacturer could consider offering a version that is specifically designed for outdoor use, with features like water-resistance and improved durability to better suit his active lifestyle.\",\n",
      "\"action\": \"view\"\n",
      "},\n",
      "{\n",
      "\"id\": 8,\n",
      "\"rating\": 4,\n",
      "\"explanation\": \"Sakura, as an active college student and member of her university's outdoor club, may find the Martha Stewart Crafts Stencil Tape useful for personalizing her outdoor apparel and equipment. The product's versatility in creating patterns and designs could be a good fit for her interests.\",\n",
      "\"improvement\": \"To further enhance the product's appeal to Sakura, the manufacturer could consider offering a wider range of nature-inspired color options and designs that would complement her active outdoor lifestyle.\",\n",
      "\"action\": \"like\"\n",
      "},\n",
      "{\n",
      "\"id\": 9,\n",
      "\"rating\": 3,\n",
      "\"explanation\": \"Ryota, as an outdoor enthusiast who enjoys activities like hiking, mountain biking, and rock climbing, is more likely to be interested in specialized outdoor gear and equipment that can withstand the demands of his adventurous hobbies. While the Martha Stewart Crafts Stencil Tape could be used for some customization, it may not be a top priority for him.\",\n",
      "\"improvement\": \"To make this product more appealing to Ryota, the manufacturer could consider offering a version that is specifically designed for outdoor use, with features like water-resistance and improved durability to better suit his active lifestyle.\",\n",
      "\"action\": \"view\"\n",
      "},\n",
      "{\n",
      "\"id\": 10,\n",
      "\"rating\": 4,\n",
      "\"explanation\": \"Akiko, as an active college student and member of her university's outdoor club, may find the Martha Stewart Crafts Stencil Tape useful for personalizing her outdoor apparel and equipment. The product's versatility in creating patterns and designs could be a good fit for her interests.\",\n",
      "\"improvement\": \"To further enhance the product's appeal to Akiko, the manufacturer could consider offering a wider range of nature-inspired color options and designs that would complement her active outdoor lifestyle.\",\n",
      "\"action\": \"like\"\n",
      "}\n",
      "]\n"
     ]
    }
   ],
   "source": [
    "print(query_response)"
   ]
  },
  {
   "cell_type": "code",
   "execution_count": 8,
   "metadata": {},
   "outputs": [],
   "source": [
    "query_response_json = json.loads(query_response)"
   ]
  },
  {
   "cell_type": "code",
   "execution_count": 9,
   "metadata": {},
   "outputs": [
    {
     "data": {
      "text/plain": [
       "3.5"
      ]
     },
     "execution_count": 9,
     "metadata": {},
     "output_type": "execute_result"
    }
   ],
   "source": [
    "average_rating(query_response_json)"
   ]
  },
  {
   "cell_type": "code",
   "execution_count": 10,
   "metadata": {},
   "outputs": [
    {
     "data": {
      "text/plain": [
       "{'purchase': 0, 'like': 5, 'view': 5, 'total': 10}"
      ]
     },
     "execution_count": 10,
     "metadata": {},
     "output_type": "execute_result"
    }
   ],
   "source": [
    "action_breakdown(query_response_json)"
   ]
  },
  {
   "cell_type": "code",
   "execution_count": 12,
   "metadata": {},
   "outputs": [
    {
     "name": "stdout",
     "output_type": "stream",
     "text": [
      "Collecting python-dotenv\n",
      "  Using cached python_dotenv-1.0.1-py3-none-any.whl.metadata (23 kB)\n",
      "Using cached python_dotenv-1.0.1-py3-none-any.whl (19 kB)\n",
      "Installing collected packages: python-dotenv\n",
      "Successfully installed python-dotenv-1.0.1\n",
      "Note: you may need to restart the kernel to use updated packages.\n"
     ]
    }
   ],
   "source": [
    "%pip install python-dotenv"
   ]
  }
 ],
 "metadata": {
  "kernelspec": {
   "display_name": "venv",
   "language": "python",
   "name": "python3"
  },
  "language_info": {
   "codemirror_mode": {
    "name": "ipython",
    "version": 3
   },
   "file_extension": ".py",
   "mimetype": "text/x-python",
   "name": "python",
   "nbconvert_exporter": "python",
   "pygments_lexer": "ipython3",
   "version": "3.12.7"
  }
 },
 "nbformat": 4,
 "nbformat_minor": 2
}
