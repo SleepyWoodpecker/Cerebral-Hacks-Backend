{
 "cells": [
  {
   "cell_type": "code",
   "execution_count": 1,
   "metadata": {},
   "outputs": [],
   "source": [
    "from evaluator.evaluate import LLM"
   ]
  },
  {
   "cell_type": "code",
   "execution_count": 2,
   "metadata": {},
   "outputs": [
    {
     "name": "stdout",
     "output_type": "stream",
     "text": [
      "Successfully Connected to Anthropic API\n"
     ]
    }
   ],
   "source": [
    "model = LLM()"
   ]
  },
  {
   "cell_type": "code",
   "execution_count": 3,
   "metadata": {},
   "outputs": [
    {
     "name": "stdout",
     "output_type": "stream",
     "text": [
      "[\n",
      "{\n",
      "\"id\": 1,\n",
      "\"age\": 42,\n",
      "\"gender\": \"Male\",\n",
      "\"location\": \"New Mexico\",\n",
      "\"user_description\": \"John is a 42-year-old man living in New Mexico. He enjoys the outdoors and likes to stay active, which is reflected in his purchasing habits. He has bought a variety of sportswear and outdoor gear, such as hiking boots, sunglasses, and a coat. John also likes to stay fashionable, purchasing items like jeans, shirts, and a handbag. He tends to make purchases on a quarterly or bi-weekly basis, indicating he is an engaged and loyal customer.\"\n",
      "},\n",
      "{\n",
      "\"id\": 2,\n",
      "\"age\": 28,\n",
      "\"gender\": \"Female\",\n",
      "\"location\": \"Utah\",\n",
      "\"user_description\": \"Sarah is a 28-year-old woman living in Utah. She is passionate about fashion and enjoys expressing her personal style through her purchases. Sarah has bought a diverse range of clothing items, including dresses, blouses, and accessories like scarves and jewelry. She tends to shop on a monthly or quarterly basis, suggesting she carefully considers her purchases. Sarah also likes to stay active, as evidenced by her purchase of a pair of sneakers.\"\n",
      "},\n",
      "{\n",
      "\"id\": 3,\n",
      "\"age\": 55,\n",
      "\"gender\": \"Male\",\n",
      "\"location\": \"Virginia\",\n",
      "\"user_description\": \"Michael is a 55-year-old man living in Virginia. He has a refined sense of style and enjoys classic, high-quality clothing items. Michael's purchases include shirts, pants, and a coat, all in neutral and earthy tones. He tends to shop on a quarterly or annual basis, indicating he prefers to invest in durable, long-lasting items. Michael also enjoys outdoor activities, as shown by his purchase of a pair of sunglasses.\"\n",
      "},\n",
      "{\n",
      "\"id\": 4,\n",
      "\"age\": 19,\n",
      "\"gender\": \"Male\",\n",
      "\"location\": \"Maine\",\n",
      "\"user_description\": \"David is a 19-year-old man living in Maine. He is interested in technology and electronics, as evidenced by his purchase of a music box and a motion detector. David also enjoys fashion and has bought a variety of clothing items, including a sweater and a pair of jeans. He tends to shop on a fortnightly or weekly basis, suggesting he is an engaged and frequent consumer.\"\n",
      "},\n",
      "{\n",
      "\"id\": 5,\n",
      "\"age\": 64,\n",
      "\"gender\": \"Male\",\n",
      "\"location\": \"New Hampshire\",\n",
      "\"user_description\": \"Robert is a 64-year-old man living in New Hampshire. He has a diverse range of interests, from outdoor activities to fashion and accessories. Robert has purchased items like a coat, a dress, and a pair of sunglasses, indicating he values both functionality and style. He tends to shop on a weekly or monthly basis, suggesting he is an active and engaged consumer.\"\n",
      "},\n",
      "{\n",
      "\"id\": 6,\n",
      "\"age\": 31,\n",
      "\"gender\": \"Male\",\n",
      "\"location\": \"North Carolina\",\n",
      "\"user_description\": \"Mark is a 31-year-old man living in North Carolina. He enjoys an active lifestyle and has purchased items like a pair of shorts, a dress, and a pair of sneakers. Mark also has a keen interest in fashion and has bought accessories like a scarf and a belt. He tends to shop on a weekly or quarterly basis, suggesting he is a discerning and thoughtful consumer.\"\n",
      "},\n",
      "{\n",
      "\"id\": 7,\n",
      "\"age\": 50,\n",
      "\"gender\": \"Male\",\n",
      "\"location\": \"Massachusetts\",\n",
      "\"user_description\": \"Thomas is a 50-year-old man living in Massachusetts. He has a diverse range of interests, from fashion to outdoor activities. Thomas has purchased items like jeans, a blouse, and a pair of sunglasses, indicating he values both functionality and style. He tends to shop on a weekly or annual basis, suggesting he is a selective and thoughtful consumer.\"\n",
      "},\n",
      "{\n",
      "\"id\": 8,\n",
      "\"age\": 65,\n",
      "\"gender\": \"Male\",\n",
      "\"location\": \"Rhode Island\",\n",
      "\"user_description\": \"William is a 65-year-old man living in Rhode Island. He has a refined sense of style and enjoys classic, high-quality clothing items. William's purchases include a pair of pants, a dress, and a scarf, all in neutral and earthy tones. He tends to shop on a quarterly or annual basis, indicating he prefers to invest in durable, long-lasting items. William also enjoys outdoor activities, as shown by his purchase of a pair of sunglasses.\"\n",
      "},\n",
      "{\n",
      "\"id\": 9,\n",
      "\"age\": 21,\n",
      "\"gender\": \"Male\",\n",
      "\"location\": \"Oregon\",\n",
      "\"user_description\": \"Alex is a 21-year-old man living in Oregon. He is interested in fashion and enjoys experimenting with different styles. Alex has purchased items like a blouse, a pair of sandals, and a pair of pants, suggesting he is not afraid to try out new trends. He tends to shop on a weekly or annual basis, indicating he is an engaged and selective consumer.\"\n",
      "},\n",
      "{\n",
      "\"id\": 10,\n",
      "\"age\": 53,\n",
      "\"gender\": \"Male\",\n",
      "\"location\": \"Arkansas\",\n",
      "\"user_description\": \"Benjamin is a 53-year-old man living in Arkansas. He has a varied set of interests, from outdoor activities to fashion and accessories. Benjamin has purchased items like a pair of shoes, a dress, and a coat, suggesting he values both functionality and style. He tends to shop on a bi-weekly or quarterly basis, indicating he is an active and engaged consumer.\"\n",
      "]\n"
     ]
    }
   ],
   "source": [
    "response, history = model.generate_user_profiles()\n",
    "\n",
    "print(response)"
   ]
  },
  {
   "cell_type": "code",
   "execution_count": 4,
   "metadata": {},
   "outputs": [
    {
     "name": "stdout",
     "output_type": "stream",
     "text": [
      "{\n",
      "\"rating\": 4,\n",
      "\"explanation\": \"As an active and outdoorsy person, I can see myself using this stencil tape for various DIY projects, such as adding decorative patterns to my hiking gear or creating custom designs on my clothing. The low-tack adhesive and easy removability make it suitable for my needs, and the ability to prevent paint from running under the stencil is a useful feature.\",\n",
      "\"improvement\": \"Since I enjoy being outdoors, it would be great if the stencil tape was also water-resistant or weatherproof, allowing me to use it for outdoor projects without worrying about it getting damaged by the elements.\",\n",
      "\"action\": \"purchase\"\n",
      "}\n"
     ]
    }
   ],
   "source": [
    "users = [{\n",
    "\"id\": 1,\n",
    "\"age\": 42,\n",
    "\"gender\": \"Male\",\n",
    "\"location\": \"New Mexico\",\n",
    "\"user_description\": \"John is a 42-year-old man living in New Mexico. He enjoys the outdoors and likes to stay active, which is reflected in his purchasing habits. He has bought a variety of sportswear and outdoor gear, such as hiking boots, sunglasses, and a coat. John also likes to stay fashionable, purchasing items like jeans, shirts, and a handbag. He tends to make purchases on a quarterly or bi-weekly basis, indicating he is an engaged and loyal customer.\"\n",
    "}]\n",
    "\n",
    "product = {\n",
    "'Product Name': 'Martha Stewart Crafts Stencil Tape, 32292',\n",
    " 'Category': 'Arts, Crafts & Sewing | Crafting | Paper & Paper Crafts | Paper Craft Tools',\n",
    " 'About Product': 'Create plaids, stripes and checkerboards | Low tack adhesive | Easily removed | Holds stencils securely in place | Prevents run under of paint'\n",
    " }\n",
    "\n",
    "print(model.queryUser(user, product, history))"
   ]
  }
 ],
 "metadata": {
  "kernelspec": {
   "display_name": "venv",
   "language": "python",
   "name": "python3"
  },
  "language_info": {
   "codemirror_mode": {
    "name": "ipython",
    "version": 3
   },
   "file_extension": ".py",
   "mimetype": "text/x-python",
   "name": "python",
   "nbconvert_exporter": "python",
   "pygments_lexer": "ipython3",
   "version": "3.12.7"
  }
 },
 "nbformat": 4,
 "nbformat_minor": 2
}
