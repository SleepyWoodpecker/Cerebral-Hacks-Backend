{
 "cells": [
  {
   "cell_type": "code",
   "execution_count": 1,
   "metadata": {},
   "outputs": [],
   "source": [
    "from evaluator.evaluate import LLM"
   ]
  },
  {
   "cell_type": "code",
   "execution_count": 2,
   "metadata": {},
   "outputs": [
    {
     "name": "stdout",
     "output_type": "stream",
     "text": [
      "Successfully Connected to Anthropic API\n"
     ]
    }
   ],
   "source": [
    "model = LLM()"
   ]
  },
  {
   "cell_type": "code",
   "execution_count": 3,
   "metadata": {},
   "outputs": [
    {
     "name": "stdout",
     "output_type": "stream",
     "text": [
      "[\n",
      "{\n",
      "\"id\": 1,\n",
      "\"age\": 35,\n",
      "\"gender\": \"Male\",\n",
      "\"location\": \"Tokyo\",\n",
      "\"user_description\": \"Takeshi is a 35-year-old businessman living in the bustling city of Tokyo. He has a keen eye for fashion and enjoys updating his wardrobe with the latest trends. Takeshi often shops for clothing items such as dress shirts, slacks, and suits, and he appreciates the attention to detail in products like sunglasses and belts. When he's not at the office, he enjoys exploring the city's vibrant neighborhoods and trying new restaurants, which explains his frequent purchases of jackets, scarves, and other accessories.\"\n",
      "},\n",
      "{\n",
      "\"id\": 2,\n",
      "\"age\": 28,\n",
      "\"gender\": \"Female\",\n",
      "\"location\": \"Osaka\",\n",
      "\"user_description\": \"Saki is a 28-year-old fashion designer living in the bustling city of Osaka. She has a keen eye for style and is always on the lookout for unique and trendy pieces to incorporate into her wardrobe. Saki frequently shops for clothing items such as dresses, blouses, and skirts, and she also enjoys accessorizing with items like jewelry, bags, and sunglasses. When she's not working on her latest designs, Saki enjoys spending time outdoors, which explains her purchases of activewear and outdoor gear.\"\n",
      "},\n",
      "{\n",
      "\"id\": 3,\n",
      "\"age\": 42,\n",
      "\"gender\": \"Male\",\n",
      "\"location\": \"Kobe\",\n",
      "\"user_description\": \"Junichi is a 42-year-old tech executive living in the coastal city of Kobe. He has a practical and functional approach to his wardrobe, often purchasing items like pants, shirts, and jackets that are versatile and can be worn in a variety of settings. Junichi also values comfort and durability, which explains his frequent purchases of footwear and outerwear. When he's not in the office, Junichi enjoys spending time with his family and exploring the city's parks and hiking trails, which has led to his purchases of outdoor gear and accessories.\"\n",
      "},\n",
      "{\n",
      "\"id\": 4,\n",
      "\"age\": 19,\n",
      "\"gender\": \"Female\",\n",
      "\"location\": \"Kyoto\",\n",
      "\"user_description\": \"Ayame is a 19-year-old college student living in the historic city of Kyoto. She has a youthful and playful sense of style, often purchasing trendy clothing items like sweaters, shorts, and dresses. Ayame also enjoys accessorizing with items like jewelry, bags, and hats to express her creativity and individuality. When she's not in class, Ayame enjoys exploring the city's rich cultural heritage and visiting local shops and cafes, which has led to her purchases of souvenirs and other unique items.\"\n",
      "},\n",
      "{\n",
      "\"id\": 5,\n",
      "\"age\": 58,\n",
      "\"gender\": \"Male\",\n",
      "\"location\": \"Nagoya\",\n",
      "\"user_description\": \"Takahiro is a 58-year-old retiree living in the vibrant city of Nagoya. He has a refined and classic sense of style, often purchasing timeless pieces like dress shirts, slacks, and blazers. Takahiro also values quality and durability, which explains his frequent purchases of items like high-end footwear and outerwear. When he's not at home, Takahiro enjoys staying active and exploring the city's parks and cultural attractions, which has led to his purchases of recreational equipment and accessories.\"\n",
      "},\n",
      "{\n",
      "\"id\": 6,\n",
      "\"age\": 23,\n",
      "\"gender\": \"Female\",\n",
      "\"location\": \"Hiroshima\",\n",
      "\"user_description\": \"Emi is a 23-year-old aspiring artist living in the vibrant city of Hiroshima. She has a unique and eclectic sense of style, often purchasing one-of-a-kind clothing items like vintage dresses, artisanal jewelry, and handmade accessories. Emi also enjoys experimenting with different looks and expressions, which explains her purchases of items like colorful scarves, funky hats, and bold makeup. When she's not working on her latest creative project, Emi enjoys exploring the city's bustling art scene and attending local events and festivals.\"\n",
      "},\n",
      "{\n",
      "\"id\": 7,\n",
      "\"age\": 31,\n",
      "\"gender\": \"Male\",\n",
      "\"location\": \"Sapporo\",\n",
      "\"user_description\": \"Ryota is a 31-year-old outdoor enthusiast living in the picturesque city of Sapporo. He has an active and adventurous lifestyle, which is reflected in his purchasing habits. Ryota frequently buys items like hiking boots, sporty jackets, and technical gear for his outdoor activities. He also enjoys the occasional splurge on high-quality equipment like backpacks and camping gear to support his love of adventure. When he's not exploring the great outdoors, Ryota enjoys relaxing at home with a good book or catching up on his favorite television shows.\"\n",
      "},\n",
      "{\n",
      "\"id\": 8,\n",
      "\"age\": 47,\n",
      "\"gender\": \"Female\",\n",
      "\"location\": \"Kobe\",\n",
      "\"user_description\": \"Midori is a 47-year-old working professional living in the coastal city of Kobe. She has a practical and versatile approach to her wardrobe, often purchasing items like blouses, trousers, and blazers that can be easily mixed and matched for a variety of occasions. Midori also values comfort and quality, which explains her frequent purchases of high-end footwear and accessories. When she's not at the office, Midori enjoys spending time with her family and exploring the city's vibrant cultural attractions, which has led to her purchases of home goods and decorative items.\"\n",
      "},\n",
      "{\n",
      "\"id\": 9,\n",
      "\"age\": 62,\n",
      "\"gender\": \"Male\",\n",
      "\"location\": \"Fukuoka\",\n",
      "\"user_description\": \"Takeshi is a 62-year-old retiree living in the bustling city of Fukuoka. He has a refined and classic sense of style, often purchasing timeless pieces like dress shirts, slacks, and sports coats. Takeshi also values quality and durability, which explains his frequent purchases of high-end outerwear and accessories. When he's not at home, Takeshi enjoys staying active and exploring the city's parks and cultural attractions, which has led to his purchases of recreational equipment and souvenirs.\"\n",
      "},\n",
      "{\n",
      "\"id\": 10,\n",
      "\"age\": 27,\n",
      "\"gender\": \"Female\",\n",
      "\"location\": \"Yokohama\",\n",
      "\"user_description\": \"Yumi is a 27-year-old fashion-conscious young professional living in the vibrant city of Yokohama. She has a keen eye for trends and enjoys updating her wardrobe with the latest styles, often purchasing items like dresses, blouses, and skirts. Yumi also values quality and attention to detail, which explains her frequent purchases of accessories like handbags, jewelry, and sunglasses. When she's not at work, Yumi enjoys exploring the city's bustling shopping districts and attending local events and festivals, which has led to her purchases of unique and one-of-a-kind items.\"\n",
      "]\n"
     ]
    }
   ],
   "source": [
    "response, history = model.generate_user_profiles(\"Japan\")\n",
    "\n",
    "print(response)"
   ]
  },
  {
   "cell_type": "code",
   "execution_count": 4,
   "metadata": {},
   "outputs": [
    {
     "name": "stdout",
     "output_type": "stream",
     "text": [
      "[\n",
      "{\n",
      "\"id\": 1,\n",
      "\"rating\": 4,\n",
      "\"explanation\": \"Takeshi is likely to appreciate the Martha Stewart Crafts Stencil Tape as it aligns with his attention to detail and his interest in home decor and accessories. The low-tack adhesive and ability to create unique patterns and designs would appeal to his fashion-forward sensibilities.\",\n",
      "\"improvement\": \"To make the product more attractive to Takeshi, the manufacturer could consider expanding the color and pattern options to allow for greater customization and integration with various home decor styles.\",\n",
      "\"action\": \"purchase\",\n",
      "\"liked\": [\n",
      "\"Low-tack adhesive for easy application and removal\",\n",
      "\"Ability to create unique patterns and designs\",\n",
      "\"Potential to use in home decor projects\"\n",
      "],\n",
      "\"disliked\": [\n",
      "\"Limited color and pattern options\"\n",
      "]\n",
      "},\n",
      "{\n",
      "\"id\": 2,\n",
      "\"rating\": 4,\n",
      "\"explanation\": \"Saki, as a fashion designer, would appreciate the Martha Stewart Crafts Stencil Tape for its versatility in creating unique and personalized designs. The ability to easily apply and remove the stencils would align with her creative process and allow her to experiment with different patterns and textures.\",\n",
      "\"improvement\": \"To further enhance the product's appeal to Saki, the manufacturer could consider expanding the stencil designs to include more fashion-forward and contemporary motifs, catering to the preferences of creative professionals like herself.\",\n",
      "\"action\": \"purchase\",\n",
      "\"liked\": [\n",
      "\"Ability to create customized designs\",\n",
      "\"Easy application and removal of stencils\",\n",
      "\"Potential for use in fashion and textile design\"\n",
      "],\n",
      "\"disliked\": [\n",
      "\"Limited selection of stencil designs\"\n",
      "]\n",
      "}\n",
      "]\n"
     ]
    }
   ],
   "source": [
    "users = [\n",
    "{\n",
    "\"id\": 1,\n",
    "\"age\": 35,\n",
    "\"gender\": \"Male\",\n",
    "\"location\": \"Tokyo\",\n",
    "\"user_description\": \"Takeshi is a 35-year-old businessman living in the bustling city of Tokyo. He has a keen eye for fashion and enjoys updating his wardrobe with the latest trends. Takeshi often shops for clothing items such as dress shirts, slacks, and suits, and he appreciates the attention to detail in products like sunglasses and belts. When he's not at the office, he enjoys exploring the city's vibrant neighborhoods and trying new restaurants, which explains his frequent purchases of jackets, scarves, and other accessories.\"\n",
    "},\n",
    "{\n",
    "\"id\": 2,\n",
    "\"age\": 28,\n",
    "\"gender\": \"Female\",\n",
    "\"location\": \"Osaka\",\n",
    "\"user_description\": \"Saki is a 28-year-old fashion designer living in the bustling city of Osaka. She has a keen eye for style and is always on the lookout for unique and trendy pieces to incorporate into her wardrobe. Saki frequently shops for clothing items such as dresses, blouses, and skirts, and she also enjoys accessorizing with items like jewelry, bags, and sunglasses. When she's not working on her latest designs, Saki enjoys spending time outdoors, which explains her purchases of activewear and outdoor gear.\"\n",
    "},\n",
    "]\n",
    "\n",
    "product = {\n",
    "'Product Name': 'Martha Stewart Crafts Stencil Tape, 32292',\n",
    " 'Category': 'Arts, Crafts & Sewing | Crafting | Paper & Paper Crafts | Paper Craft Tools',\n",
    " 'About Product': 'Create plaids, stripes and checkerboards | Low tack adhesive | Easily removed | Holds stencils securely in place | Prevents run under of paint'\n",
    " }\n",
    "\n",
    "response, history = model.queryUsers(users, product, history)\n",
    "\n",
    "print(response)"
   ]
  },
  {
   "cell_type": "code",
   "execution_count": 5,
   "metadata": {},
   "outputs": [
    {
     "name": "stdout",
     "output_type": "stream",
     "text": [
      "{\n",
      "\"feedback\": \"Overall, the users find the Martha Stewart Crafts Stencil Tape to be a versatile and useful product for creating unique designs and patterns. They appreciate the low-tack adhesive and ease of application and removal, which allows for experimentation and customization. However, some users express a desire for a wider selection of stencil designs and patterns to cater to different styles and preferences.\",\n",
      "\"positive\": \"The users highlight the product's ability to create customized designs, its easy application and removal, and its potential for use in various creative projects, such as home decor and fashion design.\",\n",
      "\"negative\": \"The limited selection of stencil designs is the main concern expressed by the users, as they would like to have more options to choose from to accommodate their individual styles and needs.\",\n",
      "\"keywords\": [\"low-tack adhesive\", \"customization\", \"versatile\", \"easy to use\", \"home decor\", \"fashion design\", \"limited selection\"],\n",
      "\"season\": \"Spring and Fall\"\n",
      "}\n"
     ]
    }
   ],
   "source": [
    "response, history = model.generate_evaluation(history)\n",
    "\n",
    "print(response)"
   ]
  }
 ],
 "metadata": {
  "kernelspec": {
   "display_name": "venv",
   "language": "python",
   "name": "python3"
  },
  "language_info": {
   "codemirror_mode": {
    "name": "ipython",
    "version": 3
   },
   "file_extension": ".py",
   "mimetype": "text/x-python",
   "name": "python",
   "nbconvert_exporter": "python",
   "pygments_lexer": "ipython3",
   "version": "3.12.7"
  }
 },
 "nbformat": 4,
 "nbformat_minor": 2
}
