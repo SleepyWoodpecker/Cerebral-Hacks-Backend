{
 "cells": [
  {
   "cell_type": "code",
   "execution_count": 1,
   "metadata": {},
   "outputs": [],
   "source": [
    "from evaluator.evaluate import LLM"
   ]
  },
  {
   "cell_type": "code",
   "execution_count": 2,
   "metadata": {},
   "outputs": [
    {
     "name": "stdout",
     "output_type": "stream",
     "text": [
      "Successfully Connected to Anthropic API\n"
     ]
    }
   ],
   "source": [
    "model = LLM()"
   ]
  },
  {
   "cell_type": "code",
   "execution_count": 3,
   "metadata": {},
   "outputs": [
    {
     "name": "stdout",
     "output_type": "stream",
     "text": [
      "[\n",
      "{\n",
      "\"id\": 1,\n",
      "\"age\": 42,\n",
      "\"gender\": \"Male\",\n",
      "\"location\": \"California\",\n",
      "\"user_description\": \"John is a 42-year-old executive living in the bustling city of Los Angeles. He has a diverse wardrobe, ranging from professional attire for the office to casual sportswear for his weekend activities. John enjoys staying active, and he is often seen jogging through the city's parks or hitting the gym. He has a keen eye for fashion and loves to accessorize his outfits with stylish sunglasses and belts. John is also an outdoor enthusiast and enjoys hiking and camping trips in the nearby mountains. When he's not working or exploring the great outdoors, he can be found relaxing at home, reading a book or tinkering with the latest tech gadgets.\"\n",
      "},\n",
      "{\n",
      "\"id\": 2,\n",
      "\"age\": 28,\n",
      "\"gender\": \"Female\",\n",
      "\"location\": \"New York\",\n",
      "\"user_description\": \"Sarah is a 28-year-old fashion-conscious young professional living in the heart of New York City. She has a keen eye for the latest trends and loves to experiment with different styles, from bold and vibrant clothing to delicate accessories. Sarah enjoys shopping at the city's high-end boutiques and vintage stores, where she can find unique pieces to add to her wardrobe. When she's not working in the fast-paced corporate world, Sarah can be found attending art exhibitions, trying new restaurants, or exploring the city's diverse neighborhoods. She is an avid reader and often spends her evenings curled up with a good book or catching up on the latest TV shows.\"\n",
      "},\n",
      "{\n",
      "\"id\": 3,\n",
      "\"age\": 19,\n",
      "\"gender\": \"Male\",\n",
      "\"location\": \"Texas\",\n",
      "\"user_description\": \"Ethan is a 19-year-old college student living in the lively city of Austin, Texas. He has a passion for technology and spends a lot of his free time tinkering with the latest gadgets and electronics. Ethan is also an avid outdoor enthusiast and enjoys hiking, camping, and rock climbing in the nearby Hill Country. When he's not studying or pursuing his hobbies, Ethan can be found socializing with friends, attending live music events, or exploring the vibrant food scene in Austin. He has a diverse wardrobe that reflects his diverse interests, from sporty activewear to stylish casual wear.\"\n",
      "},\n",
      "{\n",
      "\"id\": 4,\n",
      "\"age\": 55,\n",
      "\"gender\": \"Female\",\n",
      "\"location\": \"Florida\",\n",
      "\"user_description\": \"Emily is a 55-year-old retiree living in the sunny state of Florida. She has a love for art and fashion, and her wardrobe reflects her eclectic tastes. Emily can often be found browsing local art galleries and boutiques, searching for unique pieces to add to her collection. She enjoys hosting dinner parties for her friends and family, where she can showcase her decorative sensibilities and culinary skills. When she's not entertaining, Emily can be found relaxing on the beach or taking leisurely strolls through the local parks. She is an active member of her community, volunteering at local charities and participating in various social clubs.\"\n",
      "},\n",
      "{\n",
      "\"id\": 5,\n",
      "\"age\": 33,\n",
      "\"gender\": \"Male\",\n",
      "\"location\": \"Washington\",\n",
      "\"user_description\": \"Michael is a 33-year-old tech enthusiast living in the vibrant city of Seattle, Washington. He has a passion for the latest gadgets and electronics, and his collection of smartphones, laptops, and other tech devices is constantly evolving. Michael enjoys exploring the city's thriving tech scene, attending conferences and meetups to stay up-to-date with the latest industry trends. When he's not immersed in the world of technology, Michael can be found hiking in the nearby mountains or cycling along the city's scenic waterfront. He has a practical yet stylish wardrobe, with a mix of casual and professional attire that allows him to seamlessly transition between his various interests and activities.\"\n",
      "},\n",
      "{\n",
      "\"id\": 6,\n",
      "\"age\": 27,\n",
      "\"gender\": \"Female\",\n",
      "\"location\": \"Illinois\",\n",
      "\"user_description\": \"Jessica is a 27-year-old creative professional living in the bustling city of Chicago, Illinois. She has a keen eye for design and a passion for all things artistic, from fashion and interior decor to photography and painting. Jessica loves to explore the city's vibrant cultural scene, visiting art museums, attending theater performances, and discovering new local boutiques. Her wardrobe is a reflection of her artistic sensibilities, with a mix of bold, colorful pieces and more understated, classic items. When she's not immersed in her creative pursuits, Jessica can be found socializing with friends, trying new restaurants, or taking long walks along the lakefront.\"\n",
      "},\n",
      "{\n",
      "\"id\": 7,\n",
      "\"age\": 61,\n",
      "\"gender\": \"Male\",\n",
      "\"location\": \"Pennsylvania\",\n",
      "\"user_description\": \"Robert is a 61-year-old retiree living in the historic city of Philadelphia, Pennsylvania. He has a deep appreciation for the arts and spends much of his time attending local theater productions, visiting art galleries, and exploring the city's rich cultural heritage. Robert's wardrobe is a reflection of his refined tastes, with a mix of well-tailored suits and comfortable, yet stylish, casual wear. In his retirement, he enjoys volunteering at local museums and community organizations, using his wealth of knowledge and experience to enrich the lives of others. When he's not engaged in these activities, Robert can be found relaxing at home, reading a good book or listening to classical music.\"\n",
      "},\n",
      "{\n",
      "\"id\": 8,\n",
      "\"age\": 24,\n",
      "\"gender\": \"Female\",\n",
      "\"location\": \"Georgia\",\n",
      "\"user_description\": \"Emily is a 24-year-old recent college graduate living in the vibrant city of Atlanta, Georgia. She has a passion for fashion and loves to experiment with different styles, from trendy streetwear to chic professional attire. Emily enjoys shopping at local boutiques and vintage stores, where she can find unique pieces to add to her ever-expanding wardrobe. When she's not working at her corporate job, Emily can be found socializing with friends, attending music festivals, or exploring the city's diverse neighborhoods. She is an active member of her local community, volunteering at various charitable organizations and participating in outdoor activities like hiking and cycling.\"\n",
      "},\n",
      "{\n",
      "\"id\": 9,\n",
      "\"age\": 37,\n",
      "\"gender\": \"Male\",\n",
      "\"location\": \"Colorado\",\n",
      "\"user_description\": \"Daniel is a 37-year-old outdoor enthusiast living in the picturesque state of Colorado. He has a love for adventure and spends much of his free time hiking, camping, and skiing in the nearby Rocky Mountains. Daniel's wardrobe is primarily composed of high-quality, performance-oriented activewear, with a focus on durable and functional pieces that can withstand the rigors of his outdoor activities. When he's not exploring the great outdoors, Daniel can be found tinkering with his gear, researching the latest outdoor equipment and technologies, or attending local sports and recreation events. He is an active member of several outdoor clubs and enjoys sharing his passion for nature with like-minded individuals.\"\n",
      "},\n",
      "{\n",
      "\"id\": 10,\n",
      "\"age\": 29,\n",
      "\"gender\": \"Female\",\n",
      "\"location\": \"Massachusetts\",\n",
      "\"user_description\": \"Olivia is a 29-year-old fashion designer living in the vibrant city of Boston, Massachusetts. She has a keen eye for style and a passion for creating unique, innovative clothing and accessories. Olivia's wardrobe is a reflection of her creative spirit, with a mix of bold, statement pieces and more understated, classic items. When she's not working on her latest design projects, Olivia can be found exploring the city's diverse shopping districts, seeking out inspiration from the local fashion scene. She is also an active member of the local arts community, regularly attending gallery openings and cultural events. Olivia's love for design extends beyond her personal style, as she often volunteers her time to local charities and community organizations, using her skills to create visually stunning event spaces and promotional materials.\"\n",
      "]\n"
     ]
    }
   ],
   "source": [
    "response, history = model.generate_user_profiles()\n",
    "\n",
    "print(response)"
   ]
  },
  {
   "cell_type": "code",
   "execution_count": 4,
   "metadata": {},
   "outputs": [
    {
     "name": "stdout",
     "output_type": "stream",
     "text": [
      "[\n",
      "{\n",
      "\"id\": 1,\n",
      "\"rating\": 4,\n",
      "\"explanation\": \"John would likely find the Martha Stewart Crafts Stencil Tape to be a useful and versatile product for his various DIY projects and home improvement endeavors. As an individual with a keen eye for design and a love for experimenting with different styles, he would appreciate the tape's ability to help him create clean, precise patterns and designs. The low-tack adhesive and easy removal features would also appeal to John, as he values products that are easy to use and don't leave behind any unsightly residue. Overall, the stencil tape seems like a great addition to John's collection of craft supplies.\",\n",
      "\"improvement\": \"To make the product more attractive to John, the manufacturer could consider offering the stencil tape in a wider range of colors and patterns, allowing users to better match the product to their specific project needs and personal style preferences.\",\n",
      "\"action\": \"purchase\"\n",
      "},\n",
      "{\n",
      "\"id\": 2,\n",
      "\"rating\": 5,\n",
      "\"explanation\": \"The Martha Stewart Crafts Stencil Tape would be an excellent fit for Sarah's creative and fashion-conscious lifestyle. As a young professional with a passion for design, she would appreciate the tape's ability to help her create unique and visually striking patterns for her various DIY projects, from home decor to fashion accessories. The versatility of the product, allowing her to create everything from simple stripes to more complex checkerboard designs, would be a major selling point. Sarah's attention to detail and appreciation for high-quality materials would also make the stencil tape an attractive option.\",\n",
      "\"improvement\": \"To further enhance the appeal of the stencil tape for Sarah, the manufacturer could consider offering a wider range of sizes and shapes, catering to the diverse needs of crafters and DIY enthusiasts. Additionally, providing more detailed tutorials or inspiration guides could help Sarah explore the full potential of the product.\",\n",
      "\"action\": \"purchase\"\n",
      "}\n",
      "]\n"
     ]
    }
   ],
   "source": [
    "users = [\n",
    "{\n",
    "\"id\": 1,\n",
    "\"age\": 42,\n",
    "\"gender\": \"Male\",\n",
    "\"location\": \"California\",\n",
    "\"user_description\": \"John is a 42-year-old executive living in the bustling city of Los Angeles. He has a diverse wardrobe, ranging from professional attire for the office to casual sportswear for his weekend activities. John enjoys staying active, and he is often seen jogging through the city's parks or hitting the gym. He has a keen eye for fashion and loves to accessorize his outfits with stylish sunglasses and belts. John is also an outdoor enthusiast and enjoys hiking and camping trips in the nearby mountains. When he's not working or exploring the great outdoors, he can be found relaxing at home, reading a book or tinkering with the latest tech gadgets.\"\n",
    "},\n",
    "{\n",
    "\"id\": 2,\n",
    "\"age\": 28,\n",
    "\"gender\": \"Female\",\n",
    "\"location\": \"New York\",\n",
    "\"user_description\": \"Sarah is a 28-year-old fashion-conscious young professional living in the heart of New York City. She has a keen eye for the latest trends and loves to experiment with different styles, from bold and vibrant clothing to delicate accessories. Sarah enjoys shopping at the city's high-end boutiques and vintage stores, where she can find unique pieces to add to her wardrobe. When she's not working in the fast-paced corporate world, Sarah can be found attending art exhibitions, trying new restaurants, or exploring the city's diverse neighborhoods. She is an avid reader and often spends her evenings curled up with a good book or catching up on the latest TV shows.\"\n",
    "},]\n",
    "\n",
    "product = {\n",
    "'Product Name': 'Martha Stewart Crafts Stencil Tape, 32292',\n",
    " 'Category': 'Arts, Crafts & Sewing | Crafting | Paper & Paper Crafts | Paper Craft Tools',\n",
    " 'About Product': 'Create plaids, stripes and checkerboards | Low tack adhesive | Easily removed | Holds stencils securely in place | Prevents run under of paint'\n",
    " }\n",
    "\n",
    "response, history = model.queryUsers(users, product, history)\n",
    "\n",
    "print(response)"
   ]
  }
 ],
 "metadata": {
  "kernelspec": {
   "display_name": "venv",
   "language": "python",
   "name": "python3"
  },
  "language_info": {
   "codemirror_mode": {
    "name": "ipython",
    "version": 3
   },
   "file_extension": ".py",
   "mimetype": "text/x-python",
   "name": "python",
   "nbconvert_exporter": "python",
   "pygments_lexer": "ipython3",
   "version": "3.12.7"
  }
 },
 "nbformat": 4,
 "nbformat_minor": 2
}
