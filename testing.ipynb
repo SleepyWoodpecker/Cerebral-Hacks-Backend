{
 "cells": [
  {
   "cell_type": "code",
   "execution_count": 2,
   "metadata": {},
   "outputs": [],
   "source": [
    "from evaluator.evaluate import LLM"
   ]
  },
  {
   "cell_type": "code",
   "execution_count": 3,
   "metadata": {},
   "outputs": [
    {
     "name": "stdout",
     "output_type": "stream",
     "text": [
      "Successfully Connected to Anthropic API\n"
     ]
    }
   ],
   "source": [
    "model = LLM()"
   ]
  },
  {
   "cell_type": "code",
   "execution_count": 4,
   "metadata": {},
   "outputs": [
    {
     "name": "stdout",
     "output_type": "stream",
     "text": [
      "[\n",
      "{\n",
      "\"id\": 1,\n",
      "\"age\": 38,\n",
      "\"gender\": \"Male\",\n",
      "\"location\": \"Tokyo\",\n",
      "\"user_description\": \"Takeshi, a 38-year-old businessman living in the bustling city of Tokyo, is an avid follower of fashion trends. He frequently updates his wardrobe, purchasing a variety of clothing items like jeans, sweaters, and shirts. Takeshi also enjoys outdoor activities, and he can often be found exploring the city's parks and gardens, where he likes to wear comfortable yet stylish outfits. In his free time, Takeshi likes to unwind by browsing for accessories like sunglasses and jewelry, which he uses to add a touch of personal flair to his looks.\"\n",
      "},\n",
      "{\n",
      "\"id\": 2,\n",
      "\"age\": 24,\n",
      "\"gender\": \"Female\",\n",
      "\"location\": \"Osaka\",\n",
      "\"user_description\": \"Yumi, a 24-year-old fashion-forward university student living in Osaka, is known for her eclectic style. She loves to experiment with different clothing combinations, mixing high-end pieces with more affordable items. Yumi's wardrobe is a reflection of her diverse interests, ranging from chic dresses and trendy jackets to comfortable loungewear and sportswear. She's an avid shopper, frequently visiting local boutiques and department stores to discover the latest fashion trends. Yumi also enjoys accessorizing, and she can often be seen sporting stylish bags, jewelry, and sunglasses to complete her outfits.\"\n",
      "},\n",
      "{\n",
      "\"id\": 3,\n",
      "\"age\": 55,\n",
      "\"gender\": \"Male\",\n",
      "\"location\": \"Kobe\",\n",
      "\"user_description\": \"Hiroshi, a 55-year-old executive living in the vibrant city of Kobe, has a refined and professional sense of style. He values quality over quantity and carefully curates his wardrobe, investing in high-end business attire like suits, dress shirts, and ties. Hiroshi also enjoys more casual pieces, such as coats and jackets, which he uses to create versatile looks that can take him from the office to after-work events. In his free time, Hiroshi likes to indulge in his love for accessories, browsing for items like scarves, belts, and watches to complement his impeccable style.\"\n",
      "},\n",
      "{\n",
      "\"id\": 4,\n",
      "\"age\": 29,\n",
      "\"gender\": \"Female\",\n",
      "\"location\": \"Kyoto\",\n",
      "\"user_description\": \"Emi, a 29-year-old artist living in the historic city of Kyoto, has a unique and creative approach to fashion. She draws inspiration from the rich cultural heritage of her surroundings, often incorporating traditional Japanese elements into her outfits. Emi's wardrobe is a diverse collection of dresses, skirts, and blouses, along with more casual pieces like jeans and t-shirts. She loves to accessorize with items that reflect her artistic sensibilities, such as handcrafted jewelry, unique bags, and innovative footwear. Emi's style is a reflection of her passion for self-expression and her deep appreciation for the beauty of Japanese design.\"\n",
      "},\n",
      "{\n",
      "\"id\": 5,\n",
      "\"age\": 42,\n",
      "\"gender\": \"Male\",\n",
      "\"location\": \"Sapporo\",\n",
      "\"user_description\": \"Takumi, a 42-year-old outdoor enthusiast living in the picturesque city of Sapporo, has a practical and versatile approach to his wardrobe. As an avid hiker and adventurer, he prioritizes functionality and comfort in his clothing choices, opting for durable outerwear, sturdy footwear, and breathable activewear. Takumi also enjoys the occasional casual day, where he can be found in more relaxed attire like jeans, t-shirts, and hoodies. However, he never compromises on quality, seeking out reliable and long-lasting products that can withstand the rigors of his active lifestyle. Takumi's love for the great outdoors is reflected in his clothing choices, as he strives to find the perfect balance between style and practicality.\"\n",
      "},\n",
      "{\n",
      "\"id\": 6,\n",
      "\"age\": 31,\n",
      "\"gender\": \"Female\",\n",
      "\"location\": \"Hiroshima\",\n",
      "\"user_description\": \"Akiko, a 31-year-old working professional living in the vibrant city of Hiroshima, has a versatile and sophisticated wardrobe. She takes pride in her ability to seamlessly transition from the office to social events, effortlessly blending formal and casual pieces. Akiko's collection includes a variety of dresses, skirts, blouses, and trousers, which she uses to create polished and elegant looks. She also enjoys accessorizing with items like scarves, bags, and shoes to add a touch of personal flair to her outfits. Akiko's fashion sense reflects her dynamic lifestyle, as she strives to always look and feel her best, whether she's in a business meeting or enjoying a night out with friends.\"\n",
      "},\n",
      "{\n",
      "\"id\": 7,\n",
      "\"age\": 27,\n",
      "\"gender\": \"Male\",\n",
      "\"location\": \"Nagoya\",\n",
      "\"user_description\": \"Ryota, a 27-year-old tech enthusiast living in the bustling city of Nagoya, has a unique and modern approach to fashion. He values comfort and functionality in his clothing choices, but he also has a keen eye for trends and stylish details. Ryota's wardrobe includes a mix of casual and semi-formal pieces, such as graphic tees, hoodies, and slim-fit jeans, which he pairs with sleek, minimalist accessories like smartwatches and minimalist backpacks. He enjoys experimenting with different looks, often incorporating athletic-inspired elements to create a sporty-chic aesthetic. Ryota's fashion sense reflects his active lifestyle and his passion for technology, as he seeks to find the perfect balance between style and practicality.\"\n",
      "},\n",
      "{\n",
      "\"id\": 8,\n",
      "\"age\": 19,\n",
      "\"gender\": \"Female\",\n",
      "\"location\": \"Fukuoka\",\n",
      "\"user_description\": \"Aiko, a 19-year-old university student living in the vibrant city of Fukuoka, has a youthful and trendy fashion sense. She loves to stay up-to-date with the latest fashion trends and is not afraid to experiment with bold, eye-catching looks. Aiko's wardrobe is a mix of casual and stylish pieces, including cute dresses, playful skirts, and comfortable yet fashionable tops. She also enjoys accessorizing with colorful and playful items, such as statement jewelry, quirky bags, and whimsical shoes. Aiko's fashion choices reflect her bubbly personality and her desire to express her individuality through her clothing.\"\n",
      "},\n",
      "{\n",
      "\"id\": 9,\n",
      "\"age\": 47,\n",
      "\"gender\": \"Male\",\n",
      "\"location\": \"Kobe\",\n",
      "\"user_description\": \"Takeshi, a 47-year-old businessman living in the charming city of Kobe, has a classic and sophisticated sense of style. He favors timeless pieces that exude an air of professionalism and elegance, such as well-tailored suits, crisp dress shirts, and polished leather shoes. Takeshi also enjoys incorporating more casual elements into his wardrobe, like stylish coats and jackets, which he uses to create versatile looks that can take him from the office to social events. When it comes to accessories, Takeshi prefers understated yet refined items, such as elegant watches, subtle ties, and discreet cufflinks, to complement his overall aesthetic.\"\n",
      "},\n",
      "{\n",
      "\"id\": 10,\n",
      "\"age\": 33,\n",
      "\"gender\": \"Female\",\n",
      "\"location\": \"Sapporo\",\n",
      "\"user_description\": \"Sachiko, a 33-year-old working mother living in the picturesque city of Sapporo, has a practical and versatile fashion sense. As a busy professional, she needs her clothing to be comfortable and functional, while still maintaining a polished and put-together look. Sachiko's wardrobe includes a variety of casual yet stylish pieces, such as well-fitting jeans, versatile tops, and cozy sweaters, which she can easily mix and match to create a variety of outfits. She also enjoys incorporating the occasional statement piece, like a bold accessory or a chic jacket, to add a touch of personal flair to her everyday looks. Sachiko's fashion choices reflect her desire to balance style and practicality, allowing her to look and feel her best in both her personal and professional life.\"\n",
      "]\n"
     ]
    }
   ],
   "source": [
    "response, profile_history = model.generate_user_profiles(\"Japan\")\n",
    "\n",
    "print(response)"
   ]
  },
  {
   "cell_type": "code",
   "execution_count": 5,
   "metadata": {},
   "outputs": [
    {
     "name": "stdout",
     "output_type": "stream",
     "text": [
      "[\n",
      "{\n",
      "\"id\": 1,\n",
      "\"rating\": 4,\n",
      "\"explanation\": \"Takeshi would appreciate the versatility of the Martha Stewart Crafts Stencil Tape, as it allows him to create various designs and patterns on his projects. The low-tack adhesive and easy removability would appeal to his fashion-forward sensibilities, as he could experiment with different looks without damaging the underlying surface.\",\n",
      "\"improvement\": \"To make the product more attractive to Takeshi, the manufacturer could offer the tape in a wider range of colors and patterns, allowing him to better coordinate it with his personal style and the projects he undertakes.\",\n",
      "\"action\": \"purchase\",\n",
      "\"liked\": [\n",
      "\"Versatility in creating designs and patterns\",\n",
      "\"Low-tack adhesive for easy application and removal\",\n",
      "\"Ability to experiment with different looks\"\n",
      "],\n",
      "\"disliked\": [\n",
      "\"Limited color and pattern options\"\n",
      "]\n",
      "},\n",
      "{\n",
      "\"id\": 2,\n",
      "\"rating\": 5,\n",
      "\"explanation\": \"Yumi would be highly interested in the Martha Stewart Crafts Stencil Tape, as it aligns with her eclectic and creative fashion sense. The ability to create unique patterns and designs would allow her to personalize her projects and express her individuality.\",\n",
      "\"improvement\": \"To further enhance the product's appeal to Yumi, the manufacturer could consider offering a wider range of stencil designs or the ability to create custom stencils, enabling her to truly unleash her artistic flair.\",\n",
      "\"action\": \"purchase\",\n",
      "\"liked\": [\n",
      "\"Versatility in creating unique designs\",\n",
      "\"Ability to personalize projects and express individuality\",\n",
      "\"Easy application and removal\"\n",
      "],\n",
      "\"disliked\": [\n",
      "\"Limited stencil design options\"\n",
      "]\n",
      "}\n",
      "]\n"
     ]
    }
   ],
   "source": [
    "users = [\n",
    "{\n",
    "\"id\": 1,\n",
    "\"age\": 38,\n",
    "\"gender\": \"Male\",\n",
    "\"location\": \"Tokyo\",\n",
    "\"user_description\": \"Takeshi, a 38-year-old businessman living in the bustling city of Tokyo, is an avid follower of fashion trends. He frequently updates his wardrobe, purchasing a variety of clothing items like jeans, sweaters, and shirts. Takeshi also enjoys outdoor activities, and he can often be found exploring the city's parks and gardens, where he likes to wear comfortable yet stylish outfits. In his free time, Takeshi likes to unwind by browsing for accessories like sunglasses and jewelry, which he uses to add a touch of personal flair to his looks.\"\n",
    "},\n",
    "{\n",
    "\"id\": 2,\n",
    "\"age\": 24,\n",
    "\"gender\": \"Female\",\n",
    "\"location\": \"Osaka\",\n",
    "\"user_description\": \"Yumi, a 24-year-old fashion-forward university student living in Osaka, is known for her eclectic style. She loves to experiment with different clothing combinations, mixing high-end pieces with more affordable items. Yumi's wardrobe is a reflection of her diverse interests, ranging from chic dresses and trendy jackets to comfortable loungewear and sportswear. She's an avid shopper, frequently visiting local boutiques and department stores to discover the latest fashion trends. Yumi also enjoys accessorizing, and she can often be seen sporting stylish bags, jewelry, and sunglasses to complete her outfits.\"\n",
    "},\n",
    "]\n",
    "\n",
    "product = {\n",
    "'Product Name': 'Martha Stewart Crafts Stencil Tape, 32292',\n",
    " 'Category': 'Arts, Crafts & Sewing | Crafting | Paper & Paper Crafts | Paper Craft Tools',\n",
    " 'About Product': 'Create plaids, stripes and checkerboards | Low tack adhesive | Easily removed | Holds stencils securely in place | Prevents run under of paint'\n",
    " }\n",
    "\n",
    "image_url = \"https://images-na.ssl-images-amazon.com/images/I/41gxmYiDaRL.jpg%7Chttps://images-na.ssl-images-amazon.com/images/G/01/x-locale/common/transparent-pixel.jpg\"\n",
    "\n",
    "response, query_history = model.queryUsers(users, product, profile_history, image_url=image_url)\n",
    "\n",
    "print(response)"
   ]
  },
  {
   "cell_type": "code",
   "execution_count": 6,
   "metadata": {},
   "outputs": [
    {
     "name": "stdout",
     "output_type": "stream",
     "text": [
      "{\n",
      "\"feedback\": \"Overall, the Martha Stewart Crafts Stencil Tape is a versatile and user-friendly product that allows users to create unique patterns and designs, with some room for improvement in terms of color and stencil options.\",\n",
      "\"positive\": [\n",
      "\"Versatility in creating designs and patterns\",\n",
      "\"Easy application and removal of the low-tack adhesive\",\n",
      "\"Ability to personalize projects and express individuality\"\n",
      "],\n",
      "\"improvement\": [\n",
      "\"Offer a wider range of color and pattern options\",\n",
      "\"Provide more stencil design choices or the ability to create custom stencils\",\n",
      "\"Expand the product's appeal to users with different creative needs and styles\"\n",
      "],\n",
      "\"keywords\": [\n",
      "\"versatile\",\n",
      "\"user-friendly\",\n",
      "\"unique\",\n",
      "\"personalize\",\n",
      "\"express individuality\"\n",
      "],\n",
      "\"bestSeason\": \"spring\"\n",
      "}\n"
     ]
    }
   ],
   "source": [
    "response, history = model.generate_evaluation(query_history)\n",
    "\n",
    "print(response)"
   ]
  }
 ],
 "metadata": {
  "kernelspec": {
   "display_name": "venv",
   "language": "python",
   "name": "python3"
  },
  "language_info": {
   "codemirror_mode": {
    "name": "ipython",
    "version": 3
   },
   "file_extension": ".py",
   "mimetype": "text/x-python",
   "name": "python",
   "nbconvert_exporter": "python",
   "pygments_lexer": "ipython3",
   "version": "3.12.7"
  }
 },
 "nbformat": 4,
 "nbformat_minor": 2
}
