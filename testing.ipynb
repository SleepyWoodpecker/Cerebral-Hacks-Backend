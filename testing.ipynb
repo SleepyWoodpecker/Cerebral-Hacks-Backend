{
 "cells": [
  {
   "cell_type": "code",
   "execution_count": 1,
   "metadata": {},
   "outputs": [],
   "source": [
    "from evaluator.evaluate import LLM"
   ]
  },
  {
   "cell_type": "code",
   "execution_count": 2,
   "metadata": {},
   "outputs": [
    {
     "name": "stdout",
     "output_type": "stream",
     "text": [
      "Successfully Connected to Anthropic API\n"
     ]
    }
   ],
   "source": [
    "model = LLM()"
   ]
  },
  {
   "cell_type": "code",
   "execution_count": 3,
   "metadata": {},
   "outputs": [
    {
     "name": "stdout",
     "output_type": "stream",
     "text": [
      "[\n",
      "{\n",
      "\"id\": 1,\n",
      "\"age\": 43,\n",
      "\"gender\": \"Male\",\n",
      "\"location\": \"New York\",\n",
      "\"user_description\": \"Mark is a 43-year-old businessman living in New York City. He enjoys dressing professionally and has a keen eye for fashion. His wardrobe consists of a variety of suits, shirts, and accessories that he regularly purchases from local department stores. Mark is also an avid outdoor enthusiast, and he often buys hiking gear and outdoor equipment to support his adventurous lifestyle. In his free time, Mark likes to explore the city's vibrant cultural scene, attending concerts and art exhibits. He is a frequent shopper, making purchases every few months to update his wardrobe and keep up with the latest trends.\"\n",
      "},\n",
      "{\n",
      "\"id\": 2,\n",
      "\"age\": 27,\n",
      "\"gender\": \"Female\",\n",
      "\"location\": \"Los Angeles\",\n",
      "\"user_description\": \"Sarah is a 27-year-old fashion-forward woman living in the heart of Los Angeles. She is passionate about style and loves to experiment with the latest trends. Sarah frequently visits local boutiques and online stores to curate her wardrobe, which includes a diverse collection of dresses, blouses, and accessories. In addition to her fashionable purchases, Sarah also enjoys indulging in the city's vibrant beauty and wellness scene, regularly buying skincare products, makeup, and other self-care items. She is an active member of her community, attending local events and supporting small businesses. Sarah's shopping habits reflect her desire to look and feel her best while embracing the dynamic and ever-changing nature of LA's fashion landscape.\"\n",
      "},\n",
      "{\n",
      "\"id\": 3,\n",
      "\"age\": 58,\n",
      "\"gender\": \"Male\",\n",
      "\"location\": \"Seattle\",\n",
      "\"user_description\": \"John is a 58-year-old outdoor enthusiast living in Seattle. He is an avid hiker and enjoys spending his free time exploring the beautiful natural landscapes surrounding the city. John's shopping habits reflect his active lifestyle, as he frequently purchases hiking gear, outdoor apparel, and equipment from local outdoor retailers. He takes great pride in maintaining and upgrading his gear, ensuring he is prepared for any adventure. In addition to his outdoor purchases, John also enjoys the occasional treat, such as a new pair of comfortable shoes or a stylish jacket to wear during the city's chilly winters. John's shopping choices are guided by his passion for the outdoors and a desire to embrace the Pacific Northwest's rugged beauty.\"\n",
      "},\n",
      "{\n",
      "\"id\": 4,\n",
      "\"age\": 32,\n",
      "\"gender\": \"Female\",\n",
      "\"location\": \"Chicago\",\n",
      "\"user_description\": \"Emily is a 32-year-old creative professional living in Chicago. She has a diverse and eclectic style, with a wardrobe that reflects her artistic sensibilities. Emily frequently visits local boutiques, thrift stores, and online shops to curate unique and one-of-a-kind pieces for her collection. In addition to her fashion purchases, Emily also enjoys exploring the city's vibrant arts and culture scene, often buying tickets to concerts, theater productions, and art exhibits. Her shopping habits are driven by a desire to express her individuality and support the local creative community. Emily's purchases showcase her commitment to discovering new and exciting items that align with her personal aesthetic and her passion for the arts.\"\n",
      "},\n",
      "{\n",
      "\"id\": 5,\n",
      "\"age\": 41,\n",
      "\"gender\": \"Male\",\n",
      "\"location\": \"Miami\",\n",
      "\"user_description\": \"David is a 41-year-old successful businessman living in Miami. He has a sophisticated and refined sense of style, which is reflected in his wardrobe. David regularly visits high-end department stores and luxury boutiques to purchase designer suits, dress shirts, and accessories. He takes great pride in his appearance and believes that dressing well is an important part of his professional success. In addition to his work attire, David also enjoys indulging in the city's vibrant social scene, often purchasing stylish outfits and accessories for special events and nights out. His shopping habits are driven by a desire to project an image of wealth, success, and personal style.\"\n",
      "},\n",
      "{\n",
      "\"id\": 6,\n",
      "\"age\": 25,\n",
      "\"gender\": \"Female\",\n",
      "\"location\": \"Denver\",\n",
      "\"user_description\": \"Olivia is a 25-year-old aspiring artist living in Denver. She has a unique and eclectic sense of style, often mixing vintage and modern pieces to create her signature look. Olivia frequents local thrift stores, independent boutiques, and online vintage shops to curate her wardrobe, which includes a wide variety of clothing, accessories, and unique home decor items. She takes great pride in her ability to find one-of-a-kind pieces that reflect her creative and unconventional personality. Olivia's shopping habits are driven by a desire to support the local arts community, as well as a passion for discovering hidden gems and upcycling forgotten items. Her purchases often serve as inspiration for her own artistic endeavors.\"\n",
      "},\n",
      "{\n",
      "\"id\": 7,\n",
      "\"age\": 35,\n",
      "\"gender\": \"Male\",\n",
      "\"location\": \"Atlanta\",\n",
      "\"user_description\": \"Alex is a 35-year-old tech professional living in Atlanta. He has a practical and minimalist approach to fashion, prioritizing comfort and functionality over trend-driven purchases. Alex's wardrobe consists of versatile basics, such as t-shirts, jeans, and casual button-down shirts, which he purchases from mainstream retailers and online stores. In addition to his everyday attire, Alex also invests in high-quality athletic wear and accessories to support his active lifestyle, which includes running, cycling, and gym workouts. His shopping habits are driven by a desire for simplicity, durability, and practicality, as he aims to build a wardrobe that can adapt to his busy schedule and diverse daily activities.\"\n",
      "},\n",
      "{\n",
      "\"id\": 8,\n",
      "\"age\": 29,\n",
      "\"gender\": \"Female\",\n",
      "\"location\": \"Portland\",\n",
      "\"user_description\": \"Emily is a 29-year-old sustainability-minded individual living in Portland. She has a deep appreciation for ethical and environmentally-conscious fashion, and her shopping habits reflect this. Emily frequents local boutiques, thrift stores, and online ethical brands to curate a wardrobe that is both stylish and sustainable. She takes great care in researching the production processes and materials used by the brands she supports, ensuring that her purchases align with her values. In addition to her clothing and accessory purchases, Emily also invests in home decor items and other lifestyle products that promote sustainability and eco-friendliness. Her shopping choices are guided by a desire to make a positive impact on the environment and support the local community of ethical and sustainable businesses.\"\n",
      "},\n",
      "{\n",
      "\"id\": 9,\n",
      "\"age\": 47,\n",
      "\"gender\": \"Male\",\n",
      "\"location\": \"Boston\",\n",
      "\"user_description\": \"David is a 47-year-old businessman living in Boston. He has a refined and professional sense of style, often wearing tailored suits, dress shirts, and polished shoes to the office. David frequents high-end department stores and specialty shops to maintain his work wardrobe, ensuring that he always looks sharp and well-put-together. In addition to his work attire, David also enjoys indulging in the occasional personal purchase, such as a new winter coat or a pair of comfortable slacks for the weekends. His shopping habits are driven by a desire to project an image of success and competence, as well as a personal appreciation for quality and craftsmanship in his clothing.\"\n",
      "},\n",
      "{\n",
      "\"id\": 10,\n",
      "\"age\": 23,\n",
      "\"gender\": \"Female\",\n",
      "\"location\": \"Austin\",\n",
      "\"user_description\": \"Samantha is a 23-year-old creative professional living in Austin. She has an eclectic and trendy style that reflects the city's vibrant and youthful energy. Samantha frequently visits local boutiques, vintage stores, and online retailers to curate a wardrobe that is both fashionable and unique. She takes great pride in discovering new and exciting brands, often supporting local designers and small businesses. In addition to her clothing purchases, Samantha also enjoys investing in accessories, such as jewelry, hats, and bags, to complete her distinctive looks. Her shopping habits are driven by a desire to express her individuality and stay ahead of the latest fashion trends, while also supporting the local creative community.\"\n",
      "]\n"
     ]
    }
   ],
   "source": [
    "response, history = model.generate_user_profiles()\n",
    "\n",
    "print(response)"
   ]
  },
  {
   "cell_type": "code",
   "execution_count": 4,
   "metadata": {},
   "outputs": [
    {
     "name": "stdout",
     "output_type": "stream",
     "text": [
      "As the user \"John\" with the provided characteristics, I would rate the Martha Stewart Crafts Stencil Tape, 32292 product a 4 out of 5 stars.\n",
      "\n",
      "The product description aligns well with my interests and purchasing habits as a 45-year-old male living in Oregon. I enjoy a wide variety of clothing and accessory items, including more decorative pieces like jewelry and scarves, which suggests I may also have an interest in crafting and DIY projects.\n",
      "\n",
      "The stencil tape seems like a versatile and practical product that could be useful for a range of creative projects, from home decor to scrapbooking. The low-tack adhesive and ability to easily remove the tape without damage are appealing features, as they provide flexibility and control in the creative process.\n",
      "\n",
      "While the product may not be an essential wardrobe item for me, it could be a valuable addition to my collection of craft supplies, allowing me to experiment with different patterns and designs. The only potential drawback I can see is that it is a relatively specialized product, so its usefulness may be limited to certain types of projects.\n",
      "\n",
      "Overall, based on the product description and my personal interests and shopping habits, I would rate the Martha Stewart Crafts Stencil Tape a solid 4 out of 5 stars. It seems like a well-designed and useful tool that could enhance my creative endeavors.\n"
     ]
    }
   ],
   "source": [
    "user = {\n",
    "\"id\": 1,\n",
    "\"age\": 43,\n",
    "\"gender\": \"Male\",\n",
    "\"location\": \"New York\",\n",
    "\"user_description\": \"Mark is a 43-year-old businessman living in New York City. He enjoys dressing professionally and has a keen eye for fashion. His wardrobe consists of a variety of suits, shirts, and accessories that he regularly purchases from local department stores. Mark is also an avid outdoor enthusiast, and he often buys hiking gear and outdoor equipment to support his adventurous lifestyle. In his free time, Mark likes to explore the city's vibrant cultural scene, attending concerts and art exhibits. He is a frequent shopper, making purchases every few months to update his wardrobe and keep up with the latest trends.\"\n",
    "}\n",
    "\n",
    "product = {\n",
    "'Product Name': 'Martha Stewart Crafts Stencil Tape, 32292',\n",
    " 'Category': 'Arts, Crafts & Sewing | Crafting | Paper & Paper Crafts | Paper Craft Tools',\n",
    " 'About Product': 'Create plaids, stripes and checkerboards | Low tack adhesive | Easily removed | Holds stencils securely in place | Prevents run under of paint'\n",
    " }\n",
    "\n",
    "print(model.queryUser(user, product, history))"
   ]
  }
 ],
 "metadata": {
  "kernelspec": {
   "display_name": "venv",
   "language": "python",
   "name": "python3"
  },
  "language_info": {
   "codemirror_mode": {
    "name": "ipython",
    "version": 3
   },
   "file_extension": ".py",
   "mimetype": "text/x-python",
   "name": "python",
   "nbconvert_exporter": "python",
   "pygments_lexer": "ipython3",
   "version": "3.12.7"
  }
 },
 "nbformat": 4,
 "nbformat_minor": 2
}
