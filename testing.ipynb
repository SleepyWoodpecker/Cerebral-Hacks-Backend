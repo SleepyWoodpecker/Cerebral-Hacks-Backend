{
 "cells": [
  {
   "cell_type": "code",
   "execution_count": 1,
   "metadata": {},
   "outputs": [],
   "source": [
    "from evaluator.evaluate import LLM"
   ]
  },
  {
   "cell_type": "code",
   "execution_count": 2,
   "metadata": {},
   "outputs": [
    {
     "name": "stdout",
     "output_type": "stream",
     "text": [
      "Successfully Connected to Anthropic API\n"
     ]
    }
   ],
   "source": [
    "model = LLM()"
   ]
  },
  {
   "cell_type": "code",
   "execution_count": 3,
   "metadata": {},
   "outputs": [
    {
     "name": "stdout",
     "output_type": "stream",
     "text": [
      "[\n",
      "{\n",
      "\"id\": 1,\n",
      "\"age\": 35,\n",
      "\"gender\": \"Male\",\n",
      "\"location\": \"Tokyo\",\n",
      "\"user_description\": \"Takeshi is a 35-year-old businessman living in the bustling city of Tokyo. He enjoys a refined fashion sense, often purchasing high-quality clothing such as dress shirts, suits, and leather belts. Takeshi values quality over quantity and tends to make purchases at a moderate frequency, typically every 3 months or so. He is a practical and discerning shopper, always seeking the perfect balance of style and functionality in his wardrobe.\"\n",
      "},\n",
      "{\n",
      "\"id\": 2,\n",
      "\"age\": 22,\n",
      "\"gender\": \"Female\",\n",
      "\"location\": \"Osaka\",\n",
      "\"user_description\": \"Ayumi is a vibrant and fashion-conscious 22-year-old student living in the lively city of Osaka. She loves to express her personality through her clothing, often purchasing trendy dresses, stylish jackets, and eye-catching accessories like scarves and jewelry. Ayumi enjoys the thrill of discovering new fashion trends and updating her wardrobe regularly, typically making purchases on a weekly or biweekly basis.\"\n",
      "},\n",
      "{\n",
      "\"id\": 3,\n",
      "\"age\": 58,\n",
      "\"gender\": \"Female\",\n",
      "\"location\": \"Kyoto\",\n",
      "\"user_description\": \"Sachiko is a 58-year-old retiree living in the historic city of Kyoto. She has a keen appreciation for traditional Japanese aesthetics and often purchases clothing and accessories that reflect her refined taste. Sachiko enjoys the outdoors and can be found exploring the city's stunning temples and gardens, which has influenced her preference for comfortable, practical attire such as casual pants, blouses, and sturdy walking shoes. She tends to make purchases on a monthly or quarterly basis.\"\n",
      "},\n",
      "{\n",
      "\"id\": 4,\n",
      "\"age\": 29,\n",
      "\"gender\": \"Male\",\n",
      "\"location\": \"Kobe\",\n",
      "\"user_description\": \"Hiroshi is a 29-year-old outdoor enthusiast living in the coastal city of Kobe. He enjoys an active lifestyle and often purchases practical sportswear, including hiking boots, moisture-wicking shirts, and lightweight jackets. Hiroshi is also interested in technology and gadgets, and can occasionally be found browsing for the latest innovations in outdoor gear and accessories. He tends to make purchases on a biweekly or monthly basis, always seeking products that will enhance his adventurous pursuits.\"\n",
      "},\n",
      "{\n",
      "\"id\": 5,\n",
      "\"age\": 48,\n",
      "\"gender\": \"Male\",\n",
      "\"location\": \"Hiroshima\",\n",
      "\"user_description\": \"Kenji is a 48-year-old family man living in the vibrant city of Hiroshima. As a busy professional and a devoted father, he values practicality and comfort in his clothing choices. Kenji often purchases casual clothing such as t-shirts, jeans, and comfortable shoes, ensuring he is well-equipped for his active lifestyle. He tends to make purchases on a monthly or quarterly basis, prioritizing versatile and durable items that can withstand the demands of his daily routine.\"\n",
      "},\n",
      "{\n",
      "\"id\": 6,\n",
      "\"age\": 27,\n",
      "\"gender\": \"Female\",\n",
      "\"location\": \"Sapporo\",\n",
      "\"user_description\": \"Emi is a 27-year-old creative living in the picturesque city of Sapporo. She has a unique and eclectic fashion sense, often purchasing bold and expressive clothing, from vibrant dresses to whimsical accessories. Emi loves to experiment with different styles and trends, making frequent purchases on a weekly or biweekly basis. Her wardrobe is a reflection of her vibrant personality and her passion for self-expression.\"\n",
      "},\n",
      "{\n",
      "\"id\": 7,\n",
      "\"age\": 41,\n",
      "\"gender\": \"Female\",\n",
      "\"location\": \"Nagoya\",\n",
      "\"user_description\": \"Akiko is a 41-year-old working professional living in the bustling city of Nagoya. She has a refined and sophisticated fashion sense, often purchasing high-quality clothing and accessories that exude elegance and timelessness. Akiko values quality over quantity and tends to make purchases on a quarterly or annual basis, investing in pieces that will last and complement her professional wardrobe. She enjoys the occasional indulgence, such as a luxurious handbag or a designer scarf, as a way to elevate her look.\"\n",
      "},\n",
      "{\n",
      "\"id\": 8,\n",
      "\"age\": 19,\n",
      "\"gender\": \"Male\",\n",
      "\"location\": \"Kobe\",\n",
      "\"user_description\": \"Takuya is a 19-year-old college student living in the dynamic city of Kobe. He has a youthful and trendy fashion sense, often purchasing the latest casual clothing and accessories that reflect his active lifestyle. Takuya enjoys exploring new styles and keeping up with the latest fashion trends, making frequent purchases on a weekly or biweekly basis. He is always on the lookout for stylish yet affordable options that will help him express his individuality.\"\n",
      "},\n",
      "{\n",
      "\"id\": 9,\n",
      "\"age\": 63,\n",
      "\"gender\": \"Male\",\n",
      "\"location\": \"Sendai\",\n",
      "\"user_description\": \"Nobuo is a 63-year-old retiree living in the serene city of Sendai. He has a practical and comfortable approach to fashion, often purchasing classic, timeless pieces that will serve him well in his day-to-day life. Nobuo values quality and durability, and he tends to make purchases on a quarterly or annual basis, investing in high-quality clothing and accessories that will last. He enjoys the occasional splurge on a special item, such as a warm winter coat or a stylish pair of shoes, to treat himself.\"\n",
      "},\n",
      "{\n",
      "\"id\": 10,\n",
      "\"age\": 31,\n",
      "\"gender\": \"Female\",\n",
      "\"location\": \"Fukuoka\",\n",
      "\"user_description\": \"Yuki is a 31-year-old creative professional living in the vibrant city of Fukuoka. She has a unique and eclectic fashion sense, often purchasing clothing and accessories that reflect her artistic interests and personal style. Yuki loves to explore new trends and experiment with different looks, making frequent purchases on a weekly or biweekly basis. Her wardrobe is a reflection of her diverse interests, from bold statement pieces to more understated and minimalist items.\"\n",
      "}\n",
      "]\n"
     ]
    }
   ],
   "source": [
    "response, history = model.generate_user_profiles(\"Japan\")\n",
    "\n",
    "print(response)"
   ]
  },
  {
   "cell_type": "code",
   "execution_count": 7,
   "metadata": {},
   "outputs": [],
   "source": [
    "import json\n",
    "with open(\"test.json\", \"w\") as file:\n",
    "  json.dump(history, file)"
   ]
  },
  {
   "cell_type": "code",
   "execution_count": 4,
   "metadata": {},
   "outputs": [
    {
     "name": "stdout",
     "output_type": "stream",
     "text": [
      "[\n",
      "{\n",
      "\"id\": 1,\n",
      "\"rating\": 4,\n",
      "\"explanation\": \"Takeshi is likely to appreciate the Martha Stewart Crafts Stencil Tape as it aligns with his attention to detail and his interest in home decor and accessories. The low-tack adhesive and ability to create unique patterns and designs would appeal to his fashion-forward sensibilities.\",\n",
      "\"improvement\": \"To make the product more attractive to Takeshi, the manufacturer could consider expanding the color and pattern options to allow for greater customization and integration with various home decor styles.\",\n",
      "\"action\": \"purchase\",\n",
      "\"liked\": [\n",
      "\"Low-tack adhesive for easy application and removal\",\n",
      "\"Ability to create unique patterns and designs\",\n",
      "\"Potential to use in home decor projects\"\n",
      "],\n",
      "\"disliked\": [\n",
      "\"Limited color and pattern options\"\n",
      "]\n",
      "},\n",
      "{\n",
      "\"id\": 2,\n",
      "\"rating\": 4,\n",
      "\"explanation\": \"Saki, as a fashion designer, would appreciate the Martha Stewart Crafts Stencil Tape for its versatility in creating unique and personalized designs. The ability to easily apply and remove the stencils would align with her creative process and allow her to experiment with different patterns and textures.\",\n",
      "\"improvement\": \"To further enhance the product's appeal to Saki, the manufacturer could consider expanding the stencil designs to include more fashion-forward and contemporary motifs, catering to the preferences of creative professionals like herself.\",\n",
      "\"action\": \"purchase\",\n",
      "\"liked\": [\n",
      "\"Ability to create customized designs\",\n",
      "\"Easy application and removal of stencils\",\n",
      "\"Potential for use in fashion and textile design\"\n",
      "],\n",
      "\"disliked\": [\n",
      "\"Limited selection of stencil designs\"\n",
      "]\n",
      "}\n",
      "]\n"
     ]
    }
   ],
   "source": [
    "users = [\n",
    "{\n",
    "\"id\": 1,\n",
    "\"age\": 35,\n",
    "\"gender\": \"Male\",\n",
    "\"location\": \"Tokyo\",\n",
    "\"user_description\": \"Takeshi is a 35-year-old businessman living in the bustling city of Tokyo. He has a keen eye for fashion and enjoys updating his wardrobe with the latest trends. Takeshi often shops for clothing items such as dress shirts, slacks, and suits, and he appreciates the attention to detail in products like sunglasses and belts. When he's not at the office, he enjoys exploring the city's vibrant neighborhoods and trying new restaurants, which explains his frequent purchases of jackets, scarves, and other accessories.\"\n",
    "},\n",
    "{\n",
    "\"id\": 2,\n",
    "\"age\": 28,\n",
    "\"gender\": \"Female\",\n",
    "\"location\": \"Osaka\",\n",
    "\"user_description\": \"Saki is a 28-year-old fashion designer living in the bustling city of Osaka. She has a keen eye for style and is always on the lookout for unique and trendy pieces to incorporate into her wardrobe. Saki frequently shops for clothing items such as dresses, blouses, and skirts, and she also enjoys accessorizing with items like jewelry, bags, and sunglasses. When she's not working on her latest designs, Saki enjoys spending time outdoors, which explains her purchases of activewear and outdoor gear.\"\n",
    "},\n",
    "]\n",
    "\n",
    "product = {\n",
    "'Product Name': 'Martha Stewart Crafts Stencil Tape, 32292',\n",
    " 'Category': 'Arts, Crafts & Sewing | Crafting | Paper & Paper Crafts | Paper Craft Tools',\n",
    " 'About Product': 'Create plaids, stripes and checkerboards | Low tack adhesive | Easily removed | Holds stencils securely in place | Prevents run under of paint'\n",
    " }\n",
    "\n",
    "response, history = model.queryUsers(users, product, history)\n",
    "\n",
    "print(response)"
   ]
  },
  {
   "cell_type": "code",
   "execution_count": 5,
   "metadata": {},
   "outputs": [
    {
     "name": "stdout",
     "output_type": "stream",
     "text": [
      "{\n",
      "\"feedback\": \"Overall, the users find the Martha Stewart Crafts Stencil Tape to be a versatile and useful product for creating unique designs and patterns. They appreciate the low-tack adhesive and ease of application and removal, which allows for experimentation and customization. However, some users express a desire for a wider selection of stencil designs and patterns to cater to different styles and preferences.\",\n",
      "\"positive\": \"The users highlight the product's ability to create customized designs, its easy application and removal, and its potential for use in various creative projects, such as home decor and fashion design.\",\n",
      "\"negative\": \"The limited selection of stencil designs is the main concern expressed by the users, as they would like to have more options to choose from to accommodate their individual styles and needs.\",\n",
      "\"keywords\": [\"low-tack adhesive\", \"customization\", \"versatile\", \"easy to use\", \"home decor\", \"fashion design\", \"limited selection\"],\n",
      "\"season\": \"Spring and Fall\"\n",
      "}\n"
     ]
    }
   ],
   "source": [
    "response, history = model.generate_evaluation(history)\n",
    "\n",
    "print(response)"
   ]
  }
 ],
 "metadata": {
  "kernelspec": {
   "display_name": "GP-GPT",
   "language": "python",
   "name": "gp-gpt"
  },
  "language_info": {
   "codemirror_mode": {
    "name": "ipython",
    "version": 3
   },
   "file_extension": ".py",
   "mimetype": "text/x-python",
   "name": "python",
   "nbconvert_exporter": "python",
   "pygments_lexer": "ipython3",
   "version": "3.10.14"
  }
 },
 "nbformat": 4,
 "nbformat_minor": 2
}
