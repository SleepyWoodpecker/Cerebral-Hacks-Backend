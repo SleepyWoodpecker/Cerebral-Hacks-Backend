{
 "cells": [
  {
   "cell_type": "code",
   "execution_count": 20,
   "metadata": {},
   "outputs": [],
   "source": [
    "import csv\n",
    "with open(\"sales.csv\", \"r\") as file:\n",
    "  csv_reader = csv.reader(file)\n",
    "  rows = csv_reader.__next__()\n",
    "\n",
    "  all_users = {}\n",
    "  for (index, row) in enumerate(csv_reader):\n",
    "    user_obj = {\n",
    "        \n",
    "    }\n",
    "    for (column_number, entry_name) in enumerate(row):\n",
    "      user_obj[rows[column_number]] = entry_name\n",
    "    \n",
    "    all_users[index + 1] = user_obj"
   ]
  },
  {
   "cell_type": "code",
   "execution_count": null,
   "metadata": {},
   "outputs": [],
   "source": [
    "all_users"
   ]
  },
  {
   "cell_type": "code",
   "execution_count": 22,
   "metadata": {},
   "outputs": [],
   "source": [
    "import json\n",
    "with open(\"sales_2.json\", \"w\") as file:\n",
    "  json.dump(all_users, file)"
   ]
  }
 ],
 "metadata": {
  "kernelspec": {
   "display_name": "GP-GPT",
   "language": "python",
   "name": "gp-gpt"
  },
  "language_info": {
   "codemirror_mode": {
    "name": "ipython",
    "version": 3
   },
   "file_extension": ".py",
   "mimetype": "text/x-python",
   "name": "python",
   "nbconvert_exporter": "python",
   "pygments_lexer": "ipython3",
   "version": "3.10.14"
  }
 },
 "nbformat": 4,
 "nbformat_minor": 2
}
