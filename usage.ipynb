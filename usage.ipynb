{
 "cells": [
  {
   "cell_type": "code",
   "execution_count": 1,
   "metadata": {},
   "outputs": [],
   "source": [
    "from evaluator.evaluate import LLM"
   ]
  },
  {
   "cell_type": "code",
   "execution_count": 2,
   "metadata": {},
   "outputs": [
    {
     "name": "stdout",
     "output_type": "stream",
     "text": [
      "Successfully Connected to Anthropic API\n"
     ]
    }
   ],
   "source": [
    "model = LLM()"
   ]
  },
  {
   "cell_type": "code",
   "execution_count": 3,
   "metadata": {},
   "outputs": [
    {
     "name": "stdout",
     "output_type": "stream",
     "text": [
      "[\n",
      "{\n",
      "\"id\": 1,\n",
      "\"age\": 35,\n",
      "\"gender\": \"Male\",\n",
      "\"location\": \"Tokyo\",\n",
      "\"user_description\": \"Takeshi is a 35-year-old salesman living in the bustling city of Tokyo. He enjoys an active lifestyle, often going for runs around the Imperial Palace and hitting the gym after work. Takeshi has a keen interest in outdoor gear and likes to stay up-to-date with the latest athletic apparel and accessories. He's been eyeing a new pair of running shoes and some stylish workout clothes to upgrade his fitness wardrobe.\"\n",
      "},\n",
      "{\n",
      "\"id\": 2,\n",
      "\"age\": 22,\n",
      "\"gender\": \"Female\",\n",
      "\"location\": \"Osaka\",\n",
      "\"user_description\": \"Ayumi is a vibrant art student studying at a prestigious university in Osaka. She has a unique and creative sense of style, often experimenting with bold colors and patterns in her outfits. Ayumi loves to frequent local art supply stores, picking up new paints, brushes, and canvases to fuel her artistic passions. On the weekends, you can find her exploring the city's vibrant street art scene, camera in hand, capturing the inspiring murals and installations.\"\n",
      "},\n",
      "{\n",
      "\"id\": 3,\n",
      "\"age\": 28,\n",
      "\"gender\": \"Male\",\n",
      "\"location\": \"Kyoto\",\n",
      "\"user_description\": \"Hiroshi is a nature enthusiast who recently relocated to the historic city of Kyoto. He spends his free time hiking in the nearby mountains and exploring the serene temples and gardens. Hiroshi is always on the lookout for the latest outdoor gear, from durable hiking boots to high-quality backpacks and camping equipment. He's particularly excited about a new lightweight jacket that he's been eyeing, perfect for his adventures in the great outdoors.\"\n",
      "},\n",
      "{\n",
      "\"id\": 4,\n",
      "\"age\": 19,\n",
      "\"gender\": \"Female\",\n",
      "\"location\": \"Sapporo\",\n",
      "\"user_description\": \"Emi is a vibrant college student in Sapporo, known for her creative flair and passion for fashion. She loves to experiment with different styles, from edgy streetwear to whimsical, bohemian-inspired looks. Emi is always on the hunt for unique accessories, such as statement necklaces, chunky rings, and colorful scarves, to help her express her individuality. On the weekends, you can find her browsing the city's thriving vintage and thrift stores, searching for one-of-a-kind pieces to add to her ever-evolving wardrobe.\"\n",
      "},\n",
      "{\n",
      "\"id\": 5,\n",
      "\"age\": 42,\n",
      "\"gender\": \"Male\",\n",
      "\"location\": \"Kobe\",\n",
      "\"user_description\": \"Akira is a successful businessman living in the coastal city of Kobe. While he maintains a professional demeanor during the workweek, Akira has a secret passion for collecting high-quality outdoor gear and equipment. On the weekends, he can be found hiking along the scenic mountain trails surrounding the city, testing out the latest in advanced hiking boots, backpacks, and camping supplies. Akira takes great pride in his collection and enjoys sharing his knowledge and expertise with fellow outdoor enthusiasts.\"\n",
      "},\n",
      "{\n",
      "\"id\": 6,\n",
      "\"age\": 27,\n",
      "\"gender\": \"Female\",\n",
      "\"location\": \"Yokohama\",\n",
      "\"user_description\": \"Emi is an aspiring artist living in the bustling city of Yokohama. She spends her days sketching in local cafes, capturing the vibrant energy of the city. In her free time, Emi can be found browsing art supply stores, searching for the perfect paints, brushes, and canvases to bring her creative visions to life. She's particularly excited about a new set of high-quality watercolor paints that she's been wanting to try out. Emi's artistic talents extend beyond the canvas, as she also enjoys experimenting with fashion and DIY craft projects.\"\n",
      "},\n",
      "{\n",
      "\"id\": 7,\n",
      "\"age\": 31,\n",
      "\"gender\": \"Male\",\n",
      "\"location\": \"Nagoya\",\n",
      "\"user_description\": \"Takumi is a sports-enthusiast living in Nagoya. He's an avid basketball player, often spending his evenings on the court with his friends. Takumi takes great pride in his basketball gear, from his high-performance sneakers to his collection of team jerseys. He's always on the lookout for the latest advances in athletic equipment, and he's been eyeing a new pair of lightweight, breathable basketball shorts that he's been wanting to add to his wardrobe.\"\n",
      "},\n",
      "{\n",
      "\"id\": 8,\n",
      "\"age\": 24,\n",
      "\"gender\": \"Female\",\n",
      "\"location\": \"Kobe\",\n",
      "\"user_description\": \"Hanako is a creative and adventurous student living in the coastal city of Kobe. She loves to explore the great outdoors, hiking through the nearby mountains and spending weekends at the beach. Hanako's wardrobe is a reflection of her active lifestyle, filled with durable, functional clothing and accessories. She's particularly excited about a new backpack she's been eyeing, one that will be perfect for her upcoming camping trip with friends.\"\n",
      "},\n",
      "{\n",
      "\"id\": 9,\n",
      "\"age\": 38,\n",
      "\"gender\": \"Male\",\n",
      "\"location\": \"Hiroshima\",\n",
      "\"user_description\": \"Kenji is a passionate outdoorsman living in Hiroshima. He spends his free time hiking, camping, and mountain biking in the beautiful nature surrounding the city. Kenji is always on the lookout for the latest and greatest in outdoor gear, from high-performance hiking boots to innovative camping equipment. He's been eagerly awaiting the release of a new lightweight, breathable jacket that he's been hoping to add to his collection.\"\n",
      "},\n",
      "{\n",
      "\"id\": 10,\n",
      "\"age\": 20,\n",
      "\"gender\": \"Female\",\n",
      "\"location\": \"Sapporo\",\n",
      "\"user_description\": \"Harumi is a vibrant art student studying at a university in Sapporo. She has a unique and creative sense of style, often mixing vintage and thrifted pieces with trendy, contemporary fashion. Harumi loves to frequent local art supply stores, picking up new paints, brushes, and canvases to fuel her artistic passions. On the weekends, you can find her exploring the city's thriving street art scene, capturing the inspiring murals and installations with her camera.\"\n",
      "}\n",
      "]\n"
     ]
    }
   ],
   "source": [
    "profile_response, profile_history = model.generate_user_profiles(\"Japan\", [\n",
    "    \"Sporty\", \"Students\", \"Outdoors\", \"Artists\"\n",
    "])\n",
    "\n",
    "print(profile_response)"
   ]
  },
  {
   "cell_type": "code",
   "execution_count": 4,
   "metadata": {},
   "outputs": [
    {
     "name": "stdout",
     "output_type": "stream",
     "text": [
      "[\n",
      "{\n",
      "\"id\": 1,\n",
      "\"rating\": 4,\n",
      "\"explanation\": \"Takeshi would likely find the Martha Stewart Crafts Stencil Tape useful for his active lifestyle. He could use it to create custom athletic wear designs or personalize his fitness gear. The low-tack adhesive and ability to easily remove the tape would be appealing for his project needs.\",\n",
      "\"improvement\": \"To make the product more attractive to Takeshi, the manufacturer could consider offering the tape in a wider range of colors, particularly those that align with popular athletic brands and styles.\",\n",
      "\"action\": \"purchase\"\n",
      "},\n",
      "{\n",
      "\"id\": 2,\n",
      "\"rating\": 5,\n",
      "\"explanation\": \"Ayumi, as an art student, would find the Martha Stewart Crafts Stencil Tape to be a valuable tool for her creative projects. The ability to create custom designs and patterns would align well with her artistic sensibilities and her desire to experiment with bold colors and textures.\",\n",
      "\"improvement\": \"No major improvements needed, as the product seems well-suited for Ayumi's artistic needs.\",\n",
      "\"action\": \"purchase\"\n",
      "},\n",
      "{\n",
      "\"id\": 3,\n",
      "\"rating\": 4,\n",
      "\"explanation\": \"Hiroshi, the nature enthusiast, might find use for the Martha Stewart Crafts Stencil Tape to personalize outdoor gear or create nature-inspired designs. The durable construction and ease of use would appeal to his active lifestyle and interest in high-quality products.\",\n",
      "\"improvement\": \"Offering the tape in earthy, nature-inspired color palettes could make it even more appealing to Hiroshi and others like him who enjoy the great outdoors.\",\n",
      "\"action\": \"purchase\"\n",
      "},\n",
      "{\n",
      "\"id\": 4,\n",
      "\"rating\": 5,\n",
      "\"explanation\": \"Emi, the fashion-forward college student, would likely be very excited about the Martha Stewart Crafts Stencil Tape. She could use it to create unique, custom designs on clothing, accessories, or even her own DIY projects, which aligns well with her creative and experimental approach to style.\",\n",
      "\"improvement\": \"No major improvements needed, as the product seems well-suited for Emi's creative fashion interests.\",\n",
      "\"action\": \"purchase\"\n",
      "},\n",
      "{\n",
      "\"id\": 5,\n",
      "\"rating\": 4,\n",
      "\"explanation\": \"Akira, the successful businessman with a passion for the outdoors, might find the Martha Stewart Crafts Stencil Tape useful for personalizing his outdoor gear or creating custom designs for his hiking and camping equipment. The durable construction and easy-to-use features would appeal to his active lifestyle and attention to detail.\",\n",
      "\"improvement\": \"Offering the tape in more rugged, outdoors-inspired color schemes could make it even more appealing to Akira and others like him who enjoy outdoor activities.\",\n",
      "\"action\": \"purchase\"\n",
      "},\n",
      "{\n",
      "\"id\": 6,\n",
      "\"rating\": 5,\n",
      "\"explanation\": \"Emi, the aspiring artist, would likely find the Martha Stewart Crafts Stencil Tape to be an invaluable tool for her creative endeavors. She could use it to experiment with different patterns and textures in her artwork, as well as for DIY craft projects that she enjoys.\",\n",
      "\"improvement\": \"No major improvements needed, as the product seems well-suited for Emi's artistic needs.\",\n",
      "\"action\": \"purchase\"\n",
      "},\n",
      "{\n",
      "\"id\": 7,\n",
      "\"rating\": 3,\n",
      "\"explanation\": \"Takumi, the sports enthusiast, may not find the Martha Stewart Crafts Stencil Tape to be as immediately useful for his basketball-focused interests. While he could potentially use it to personalize his gear, the product may not be his top priority compared to high-performance athletic equipment.\",\n",
      "\"improvement\": \"Offering the tape in sports-themed color schemes or marketing it as a way to customize athletic gear could make it more appealing to Takumi and others with similar interests.\",\n",
      "\"action\": \"view\"\n",
      "},\n",
      "{\n",
      "\"id\": 8,\n",
      "\"rating\": 4,\n",
      "\"explanation\": \"Hanako, the creative and adventurous student, would likely find the Martha Stewart Crafts Stencil Tape to be a useful tool for her outdoor-focused DIY projects. She could use it to add unique designs and patterns to her hiking gear, backpacks, or other outdoor accessories.\",\n",
      "\"improvement\": \"Providing the tape in more rugged, nature-inspired color palettes could make it even more appealing to Hanako and others with similar active lifestyles.\",\n",
      "\"action\": \"purchase\"\n",
      "},\n",
      "{\n",
      "\"id\": 9,\n",
      "\"rating\": 4,\n",
      "\"explanation\": \"Kenji, the passionate outdoorsman, would appreciate the versatility of the Martha Stewart Crafts Stencil Tape. He could use it to customize his hiking and camping gear, creating unique designs and patterns that reflect his love for the great outdoors.\",\n",
      "\"improvement\": \"Offering the tape in a wider range of outdoor-themed color schemes could make it even more appealing to Kenji and others with similar outdoor interests.\",\n",
      "\"action\": \"purchase\"\n",
      "},\n",
      "{\n",
      "\"id\": 10,\n",
      "\"rating\": 5,\n",
      "\"explanation\": \"Harumi, the vibrant art student, would likely be very excited about the Martha Stewart Crafts Stencil Tape. She could use it to add unique patterns and designs to her art projects, clothing, and other DIY crafts, which aligns perfectly with her creative and experimental approach to style.\",\n",
      "\"improvement\": \"No major improvements needed, as the product seems well-suited for Harumi's artistic needs.\",\n",
      "\"action\": \"purchase\"\n",
      "}\n",
      "]\n"
     ]
    }
   ],
   "source": [
    "import json\n",
    "\n",
    "users = json.loads(profile_response)\n",
    "\n",
    "product = {\n",
    "'Product Name': 'Martha Stewart Crafts Stencil Tape, 32292',\n",
    " 'Category': 'Arts, Crafts & Sewing | Crafting | Paper & Paper Crafts | Paper Craft Tools',\n",
    " 'About Product': 'Create plaids, stripes and checkerboards | Low tack adhesive | Easily removed | Holds stencils securely in place | Prevents run under of paint'\n",
    " }\n",
    "\n",
    "image_url = \"https://images-na.ssl-images-amazon.com/images/I/41gxmYiDaRL.jpg%7Chttps://images-na.ssl-images-amazon.com/images/G/01/x-locale/common/transparent-pixel.jpg\"\n",
    "\n",
    "query_response, query_history = model.query_users(users, product, profile_history, image_url=image_url)\n",
    "\n",
    "print(query_response)"
   ]
  },
  {
   "cell_type": "code",
   "execution_count": null,
   "metadata": {},
   "outputs": [],
   "source": [
    "evaluation_response, evaluation_history = model.generate_evaluation(query_history)\n",
    "\n",
    "print(evaluation_response)"
   ]
  },
  {
   "cell_type": "code",
   "execution_count": 6,
   "metadata": {},
   "outputs": [
    {
     "name": "stdout",
     "output_type": "stream",
     "text": [
      "Introducing the Sakura Stencil Tape: A Versatile Tool for Creative Minds in Japan. Inspired by the country's rich artistic heritage, this low-tack, removable stencil tape allows university students and young professionals to seamlessly incorporate unique, nature-inspired patterns and designs into their craft projects, from personalized stationery to sustainable fashion accessories. Elevate your creativity with the Sakura Stencil Tape.\n"
     ]
    }
   ],
   "source": [
    "desc_response, desc_history = model.generate_new_description(evaluation_history)\n",
    "\n",
    "print(desc_response)"
   ]
  },
  {
   "cell_type": "code",
   "execution_count": 7,
   "metadata": {},
   "outputs": [],
   "source": [
    "from evaluator.aggregate import *"
   ]
  },
  {
   "cell_type": "code",
   "execution_count": 8,
   "metadata": {},
   "outputs": [
    {
     "name": "stdout",
     "output_type": "stream",
     "text": [
      "[\n",
      "{\n",
      "\"id\": 1,\n",
      "\"rating\": 4,\n",
      "\"explanation\": \"Takeshi is likely to appreciate the versatility and ease of use of this stencil tape. As an active outdoorsman with a creative side, he could see himself using it to add unique, custom designs to his outdoor gear or for various craft projects. The low-tack adhesive and ability to create patterns would appeal to his design sensibilities.\",\n",
      "\"improvement\": \"To make the product more attractive to Takeshi, the manufacturer could consider expanding the color options to include more vibrant, nature-inspired hues that would complement his active lifestyle and outdoor adventures.\",\n",
      "\"action\": \"purchase\"\n",
      "},\n",
      "{\n",
      "\"id\": 2,\n",
      "\"rating\": 5,\n",
      "\"explanation\": \"Sakura, as a university student passionate about the arts, would highly value the versatility and ease of use of this stencil tape. She could see herself using it for a variety of creative projects, from decorating her living space to making personalized stationery and gifts. The ability to create unique patterns and designs would perfectly align with her artistic interests.\",\n",
      "\"improvement\": \"No major improvements are needed, as this product seems well-suited to Sakura's creative needs. The manufacturer could potentially offer specialty stencil designs or themed packs to further cater to the interests of art-focused customers like Sakura.\",\n",
      "\"action\": \"purchase\"\n",
      "},\n",
      "{\n",
      "\"id\": 3,\n",
      "\"rating\": 4,\n",
      "\"explanation\": \"Hiroshi, as a dedicated outdoor enthusiast, may not have an immediate use for this stencil tape in his day-to-day activities. However, he could see himself using it for customizing his outdoor gear or creating unique decorative elements for his home, which reflects his appreciation for the natural world.\",\n",
      "\"improvement\": \"To make the product more appealing to Hiroshi, the manufacturer could consider developing a line of nature-inspired stencil designs or packaging the tape in a way that highlights its outdoor applications, such as for customizing camping equipment or backpacks.\",\n",
      "\"action\": \"view\"\n",
      "},\n",
      "{\n",
      "\"id\": 4,\n",
      "\"rating\": 5,\n",
      "\"explanation\": \"Emi, as a budding artist living in Kyoto, would likely find this stencil tape to be an invaluable tool for her creative pursuits. She could use it to add unique patterns and textures to her mixed-media artworks, or to create custom-designed elements for her paintings and drawings. The versatility of the product would align perfectly with Emi's diverse artistic interests.\",\n",
      "\"improvement\": \"No major improvements are needed, as this product seems well-suited to Emi's artistic needs. The manufacturer could potentially offer specialty stencil designs or themed packs that draw inspiration from traditional Japanese art forms, further catering to Emi's interests.\",\n",
      "\"action\": \"purchase\"\n",
      "},\n",
      "{\n",
      "\"id\": 5,\n",
      "\"rating\": 3,\n",
      "\"explanation\": \"Kenji, as a passionate outdoor enthusiast focused on skiing, snowboarding, and camping, may not have an immediate use for this stencil tape in his day-to-day activities. While he could potentially use it to customize his outdoor gear, it is not a product that would be at the top of his priority list.\",\n",
      "\"improvement\": \"To make the product more appealing to Kenji, the manufacturer could consider developing a line of stencil designs or tape specifically tailored to outdoor enthusiasts, such as nature-inspired patterns or designs that could be used to customize sports equipment and gear.\",\n",
      "\"action\": \"view\"\n",
      "},\n",
      "{\n",
      "\"id\": 6,\n",
      "\"rating\": 5,\n",
      "\"explanation\": \"Aya, as a young, creative professional working in the fashion industry, would find this stencil tape to be an invaluable tool for her work and personal projects. She could use it to add unique, sustainable designs to the clothing and accessories she creates, as well as for various craft projects that align with her artistic sensibilities and eco-conscious lifestyle.\",\n",
      "\"improvement\": \"No major improvements are needed, as this product seems well-suited to Aya's creative and sustainable interests. The manufacturer could potentially offer specialty stencil designs or themed packs that draw inspiration from traditional Japanese craftsmanship, further catering to Aya's appreciation for the country's cultural heritage.\",\n",
      "\"action\": \"purchase\"\n",
      "},\n",
      "{\n",
      "\"id\": 7,\n",
      "\"rating\": 4,\n",
      "\"explanation\": \"Takuya, as a university student with an active lifestyle and environmental awareness, could see himself using this stencil tape for a variety of projects, from customizing his sports gear to creating sustainable home decor. The versatility and ease of use of the product would appeal to his interests and values.\",\n",
      "\"improvement\": \"To make the product more appealing to Takuya, the manufacturer could consider developing a line of stencil designs or tape that feature eco-friendly, nature-inspired motifs, further aligning with his sustainable lifestyle and interests.\",\n",
      "\"action\": \"like\"\n",
      "},\n",
      "{\n",
      "\"id\": 8,\n",
      "\"rating\": 5,\n",
      "\"explanation\": \"Aiko, as a young, creative professional working in the graphic design industry, would highly value this stencil tape for its versatility and ability to help her create unique, custom designs. She could see herself using it for a variety of projects, from personalizing her work materials to adding decorative touches to her living space.\",\n",
      "\"improvement\": \"No major improvements are needed, as this product seems well-suited to Aiko's creative needs. The manufacturer could potentially offer specialty stencil designs or themed packs that draw inspiration from traditional Japanese art and design, further catering to Aiko's appreciation for the country's cultural heritage.\",\n",
      "\"action\": \"purchase\"\n",
      "},\n",
      "{\n",
      "\"id\": 9,\n",
      "\"rating\": 3,\n",
      "\"explanation\": \"Ryota, as a seasoned outdoor enthusiast focused on skiing, snowboarding, and other adventure sports, may not have an immediate use for this stencil tape in his day-to-day activities. While he could potentially use it to customize his outdoor gear, it is not a product that would be at the top of his priority list.\",\n",
      "\"improvement\": \"To make the product more appealing to Ryota, the manufacturer could consider developing a line of stencil designs or tape specifically tailored to outdoor enthusiasts, such as nature-inspired patterns or designs that could be used to customize sports equipment and gear.\",\n",
      "\"action\": \"view\"\n",
      "},\n",
      "{\n",
      "\"id\": 10,\n",
      "\"rating\": 5,\n",
      "\"explanation\": \"Mei, as a university student passionate about traditional Japanese art forms, would find this stencil tape to be an invaluable tool for her creative pursuits. She could use it to add unique, custom designs to her calligraphy, pottery, and textile projects, allowing her to explore and express her artistic interests in new and innovative ways.\",\n",
      "\"improvement\": \"No major improvements are needed, as this product seems well-suited to Mei's artistic interests. The manufacturer could potentially offer specialty stencil designs or themed packs that draw direct inspiration from traditional Japanese art forms, further catering to Mei's specific creative passions.\",\n",
      "\"action\": \"purchase\"\n",
      "}\n",
      "]\n"
     ]
    }
   ],
   "source": [
    "print(query_response)"
   ]
  },
  {
   "cell_type": "code",
   "execution_count": 9,
   "metadata": {},
   "outputs": [],
   "source": [
    "query_response_json = json.loads(query_response)"
   ]
  },
  {
   "cell_type": "code",
   "execution_count": 10,
   "metadata": {},
   "outputs": [
    {
     "data": {
      "text/plain": [
       "4.3"
      ]
     },
     "execution_count": 10,
     "metadata": {},
     "output_type": "execute_result"
    }
   ],
   "source": [
    "average_rating(query_response_json)"
   ]
  },
  {
   "cell_type": "code",
   "execution_count": 11,
   "metadata": {},
   "outputs": [
    {
     "data": {
      "text/plain": [
       "{'purchase': 6, 'like': 1, 'view': 3, 'total': 10}"
      ]
     },
     "execution_count": 11,
     "metadata": {},
     "output_type": "execute_result"
    }
   ],
   "source": [
    "action_breakdown(query_response_json)"
   ]
  }
 ],
 "metadata": {
  "kernelspec": {
   "display_name": "venv",
   "language": "python",
   "name": "python3"
  },
  "language_info": {
   "codemirror_mode": {
    "name": "ipython",
    "version": 3
   },
   "file_extension": ".py",
   "mimetype": "text/x-python",
   "name": "python",
   "nbconvert_exporter": "python",
   "pygments_lexer": "ipython3",
   "version": "3.12.7"
  }
 },
 "nbformat": 4,
 "nbformat_minor": 2
}
