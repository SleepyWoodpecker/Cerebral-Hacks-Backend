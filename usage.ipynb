{
 "cells": [
  {
   "cell_type": "code",
   "execution_count": 1,
   "metadata": {},
   "outputs": [],
   "source": [
    "from evaluator.evaluate import LLM"
   ]
  },
  {
   "cell_type": "code",
   "execution_count": 2,
   "metadata": {},
   "outputs": [
    {
     "name": "stdout",
     "output_type": "stream",
     "text": [
      "Successfully Connected to Anthropic API\n"
     ]
    }
   ],
   "source": [
    "model = LLM()"
   ]
  },
  {
   "cell_type": "code",
   "execution_count": 3,
   "metadata": {},
   "outputs": [
    {
     "name": "stdout",
     "output_type": "stream",
     "text": [
      "[\n",
      "{\n",
      "\"id\": 1,\n",
      "\"age\": 27,\n",
      "\"gender\": \"Male\",\n",
      "\"location\": \"Tokyo\",\n",
      "\"user_description\": \"Takeshi is a 27-year-old sports enthusiast living in Tokyo. He enjoys spending his free time hiking, cycling, and playing basketball with his friends. Takeshi's wardrobe reflects his active lifestyle, with a focus on comfortable and durable outdoor clothing like hiking boots, athletic jackets, and moisture-wicking t-shirts. He is always on the lookout for the latest in sports technology and often purchases new gadgets and accessories to enhance his workout routine.\"\n",
      "},\n",
      "{\n",
      "\"id\": 2,\n",
      "\"age\": 19,\n",
      "\"gender\": \"Female\",\n",
      "\"location\": \"Osaka\",\n",
      "\"user_description\": \"Mei is a 19-year-old art student living in Osaka. She spends her days sketching in local cafes, exploring the city's vibrant street art scene, and browsing for unique home decor pieces to adorn her cozy studio apartment. Mei's fashion choices reflect her creative spirit, with a mix of vintage-inspired dresses, funky accessories, and comfortable yet stylish clothing that allows her to move freely while exploring the city.\"\n",
      "},\n",
      "{\n",
      "\"id\": 3,\n",
      "\"age\": 35,\n",
      "\"gender\": \"Male\",\n",
      "\"location\": \"Kyoto\",\n",
      "\"user_description\": \"Hiroshi is a 35-year-old outdoor enthusiast living in the historical city of Kyoto. On weekends, you'll find him hiking the scenic trails around the city or camping in the nearby mountains. Hiroshi's closet is filled with durable, high-quality outdoor gear, including hiking boots, weatherproof jackets, and breathable, quick-drying base layers. He is always on the lookout for the latest in outdoor equipment and gadgets to enhance his adventures.\"\n",
      "},\n",
      "{\n",
      "\"id\": 4,\n",
      "\"age\": 22,\n",
      "\"gender\": \"Female\",\n",
      "\"location\": \"Sapporo\",\n",
      "\"user_description\": \"Aiko is a 22-year-old art student living in Sapporo. She spends her days sketching in local parks, experimenting with various painting techniques, and browsing the city's vibrant gallery scene for inspiration. Aiko's wardrobe reflects her creative spirit, with a mix of bohemian-inspired dresses, colorful scarves, and comfortable yet stylish clothing that allows her to move freely while exploring the city.\"\n",
      "},\n",
      "{\n",
      "\"id\": 5,\n",
      "\"age\": 29,\n",
      "\"gender\": \"Male\",\n",
      "\"location\": \"Nagoya\",\n",
      "\"user_description\": \"Ryuichi is a 29-year-old outdoor enthusiast living in Nagoya. On weekends, he can be found exploring the nearby mountains and rivers, hiking, and kayaking. Ryuichi's wardrobe is filled with durable, high-quality outdoor gear, including rugged hiking boots, weatherproof jackets, and breathable, quick-drying base layers. He is always on the lookout for the latest in outdoor equipment and accessories to enhance his adventures.\"\n",
      "},\n",
      "{\n",
      "\"id\": 6,\n",
      "\"age\": 20,\n",
      "\"gender\": \"Female\",\n",
      "\"location\": \"Kobe\",\n",
      "\"user_description\": \"Sakura is a 20-year-old art student living in Kobe. She spends her days sketching in local cafes, experimenting with various painting techniques, and browsing the city's vibrant gallery scene for inspiration. Sakura's wardrobe reflects her creative spirit, with a mix of vintage-inspired dresses, colorful scarves, and comfortable yet stylish clothing that allows her to move freely while exploring the city.\"\n",
      "},\n",
      "{\n",
      "\"id\": 7,\n",
      "\"age\": 32,\n",
      "\"gender\": \"Male\",\n",
      "\"location\": \"Yokohama\",\n",
      "\"user_description\": \"Takumi is a 32-year-old sports enthusiast living in Yokohama. He enjoys spending his free time jogging, cycling, and playing basketball with his friends. Takeshi's wardrobe reflects his active lifestyle, with a focus on comfortable and durable athletic clothing like running shoes, moisture-wicking shirts, and lightweight, breathable shorts. He is always on the lookout for the latest in sports technology and often purchases new gadgets and accessories to enhance his workout routine.\"\n",
      "},\n",
      "{\n",
      "\"id\": 8,\n",
      "\"age\": 24,\n",
      "\"gender\": \"Female\",\n",
      "\"location\": \"Kobe\",\n",
      "\"user_description\": \"Haruka is a 24-year-old art student living in Kobe. She spends her days sketching in local parks, experimenting with various painting techniques, and browsing the city's vibrant gallery scene for inspiration. Haruka's wardrobe reflects her creative spirit, with a mix of bohemian-inspired dresses, colorful scarves, and comfortable yet stylish clothing that allows her to move freely while exploring the city.\"\n",
      "},\n",
      "{\n",
      "\"id\": 9,\n",
      "\"age\": 38,\n",
      "\"gender\": \"Male\",\n",
      "\"location\": \"Hiroshima\",\n",
      "\"user_description\": \"Atsushi is a 38-year-old outdoor enthusiast living in Hiroshima. On weekends, he can be found exploring the nearby mountains and rivers, hiking, and kayaking. Atsushi's wardrobe is filled with durable, high-quality outdoor gear, including rugged hiking boots, weatherproof jackets, and breathable, quick-drying base layers. He is always on the lookout for the latest in outdoor equipment and accessories to enhance his adventures.\"\n",
      "},\n",
      "{\n",
      "\"id\": 10,\n",
      "\"age\": 21,\n",
      "\"gender\": \"Female\",\n",
      "\"location\": \"Sapporo\",\n",
      "\"user_description\": \"Emi is a 21-year-old art student living in Sapporo. She spends her days sketching in local cafes, experimenting with various painting techniques, and browsing the city's vibrant gallery scene for inspiration. Emi's wardrobe reflects her creative spirit, with a mix of vintage-inspired dresses, funky accessories, and comfortable yet stylish clothing that allows her to move freely while exploring the city.\"\n",
      "}\n",
      "]\n"
     ]
    }
   ],
   "source": [
    "profile_response, profile_history = model.generate_user_profiles(\"Japan\", [\n",
    "    \"Sporty\", \"Students\", \"Outdoors\", \"Artists\"\n",
    "])\n",
    "\n",
    "print(profile_response)"
   ]
  },
  {
   "cell_type": "code",
   "execution_count": 4,
   "metadata": {},
   "outputs": [
    {
     "name": "stdout",
     "output_type": "stream",
     "text": [
      "[\n",
      "{\n",
      "\"id\": 1,\n",
      "\"rating\": 4,\n",
      "\"explanation\": \"Takeshi, the 27-year-old sports enthusiast, would likely find the Martha Stewart Crafts Stencil Tape useful for his active lifestyle. He could use it to create custom designs on his outdoor gear, such as his hiking boots or athletic jackets, to make them more personalized and unique. The low-tack adhesive and easy removal would allow him to experiment with different patterns without permanently altering his clothing.\",\n",
      "\"improvement\": \"To make the product more attractive to Takeshi, the manufacturer could consider offering the stencil tape in a wider range of colors and patterns that would better suit his sporty and outdoor-oriented wardrobe.\",\n",
      "\"action\": \"purchase\"\n",
      "},\n",
      "{\n",
      "\"id\": 2,\n",
      "\"rating\": 5,\n",
      "\"explanation\": \"Mei, the 19-year-old art student in Osaka, would greatly appreciate the Martha Stewart Crafts Stencil Tape. As a creative individual, she would use it to add unique and personalized designs to her vintage-inspired dresses, funky accessories, and other clothing items. The ability to create custom patterns and the ease of use would appeal to her artistic sensibilities.\",\n",
      "\"improvement\": \"Since Mei is already likely to find this product very appealing, no major improvements are necessary. However, the manufacturer could consider offering the tape in a wider variety of colors to further cater to the needs of creative individuals like Mei.\",\n",
      "\"action\": \"purchase\"\n",
      "},\n",
      "{\n",
      "\"id\": 3,\n",
      "\"rating\": 4,\n",
      "\"explanation\": \"Hiroshi, the 35-year-old outdoor enthusiast in Kyoto, would appreciate the Martha Stewart Crafts Stencil Tape for its ability to customize his outdoor gear. He could use it to add unique designs or patterns to his hiking boots, weatherproof jackets, and other durable clothing items, allowing him to personalize his gear and make it stand out.\",\n",
      "\"improvement\": \"To better suit Hiroshi's needs, the manufacturer could consider offering the stencil tape in more rugged, outdoor-oriented designs or colors that would better complement the aesthetic of his outdoor equipment.\",\n",
      "\"action\": \"purchase\"\n",
      "},\n",
      "{\n",
      "\"id\": 4,\n",
      "\"rating\": 5,\n",
      "\"explanation\": \"Aiko, the 22-year-old art student in Sapporo, would be highly interested in the Martha Stewart Crafts Stencil Tape. As an artistic individual, she would use it to add unique and personalized designs to her bohemian-inspired dresses, colorful scarves, and other clothing items. The versatility of the product would allow her to experiment with different patterns and textures, aligning with her creative spirit.\",\n",
      "\"improvement\": \"Given Aiko's strong interest in the product, no major improvements are necessary. However, the manufacturer could consider offering the tape in a wider range of colors and patterns to further cater to the needs of creative individuals like Aiko.\",\n",
      "\"action\": \"purchase\"\n",
      "},\n",
      "{\n",
      "\"id\": 5,\n",
      "\"rating\": 4,\n",
      "\"explanation\": \"Ryuichi, the 29-year-old outdoor enthusiast in Nagoya, would find the Martha Stewart Crafts Stencil Tape useful for customizing his outdoor gear. He could use it to add unique designs or patterns to his rugged hiking boots, weatherproof jackets, and other durable clothing items, allowing him to personalize his gear and make it stand out.\",\n",
      "\"improvement\": \"Similar to Hiroshi, Ryuichi would benefit from the stencil tape being offered in more outdoor-oriented designs or colors that would better complement the aesthetic of his outdoor equipment.\",\n",
      "\"action\": \"purchase\"\n",
      "},\n",
      "{\n",
      "\"id\": 6,\n",
      "\"rating\": 5,\n",
      "\"explanation\": \"Sakura, the 20-year-old art student in Kobe, would be highly interested in the Martha Stewart Crafts Stencil Tape. As a creative individual, she would use it to add unique and personalized designs to her vintage-inspired dresses, colorful scarves, and other clothing items. The versatility of the product would allow her to experiment with different patterns and textures, aligning with her artistic spirit.\",\n",
      "\"improvement\": \"Given Sakura's strong interest in the product, no major improvements are necessary. However, the manufacturer could consider offering the tape in a wider range of colors and patterns to further cater to the needs of creative individuals like Sakura.\",\n",
      "\"action\": \"purchase\"\n",
      "},\n",
      "{\n",
      "\"id\": 7,\n",
      "\"rating\": 4,\n",
      "\"explanation\": \"Takumi, the 32-year-old sports enthusiast in Yokohama, would find the Martha Stewart Crafts Stencil Tape useful for customizing his athletic clothing. He could use it to add unique designs or patterns to his running shoes, moisture-wicking shirts, and other performance-oriented items, allowing him to personalize his gear and make it stand out.\",\n",
      "\"improvement\": \"Similar to Takeshi and Ryuichi, Takumi would benefit from the stencil tape being offered in more sports-oriented designs or colors that would better complement the aesthetic of his athletic wardrobe.\",\n",
      "\"action\": \"purchase\"\n",
      "},\n",
      "{\n",
      "\"id\": 8,\n",
      "\"rating\": 5,\n",
      "\"explanation\": \"Haruka, the 24-year-old art student in Kobe, would be highly interested in the Martha Stewart Crafts Stencil Tape. As a creative individual, she would use it to add unique and personalized designs to her bohemian-inspired dresses, colorful scarves, and other clothing items. The versatility of the product would allow her to experiment with different patterns and textures, aligning with her artistic spirit.\",\n",
      "\"improvement\": \"Given Haruka's strong interest in the product, no major improvements are necessary. However, the manufacturer could consider offering the tape in a wider range of colors and patterns to further cater to the needs of creative individuals like Haruka.\",\n",
      "\"action\": \"purchase\"\n",
      "},\n",
      "{\n",
      "\"id\": 9,\n",
      "\"rating\": 4,\n",
      "\"explanation\": \"Atsushi, the 38-year-old outdoor enthusiast in Hiroshima, would find the Martha Stewart Crafts Stencil Tape useful for customizing his outdoor gear. He could use it to add unique designs or patterns to his rugged hiking boots, weatherproof jackets, and other durable clothing items, allowing him to personalize his gear and make it stand out.\",\n",
      "\"improvement\": \"Similar to Hiroshi and Ryuichi, Atsushi would benefit from the stencil tape being offered in more outdoor-oriented designs or colors that would better complement the aesthetic of his outdoor equipment.\",\n",
      "\"action\": \"purchase\"\n",
      "},\n",
      "{\n",
      "\"id\": 10,\n",
      "\"rating\": 5,\n",
      "\"explanation\": \"Emi, the 21-year-old art student in Sapporo, would be highly interested in the Martha Stewart Crafts Stencil Tape. As a creative individual, she would use it to add unique and personalized designs to her vintage-inspired dresses, funky accessories, and other clothing items. The versatility of the product would allow her to experiment with different patterns and textures, aligning with her artistic spirit.\",\n",
      "\"improvement\": \"Given Emi's strong interest in the product, no major improvements are necessary. However, the manufacturer could consider offering the tape in a wider range of colors and patterns to further cater to the needs of creative individuals like Emi.\",\n",
      "\"action\": \"purchase\"\n",
      "}\n",
      "]\n"
     ]
    }
   ],
   "source": [
    "import json\n",
    "\n",
    "users = json.loads(profile_response)\n",
    "\n",
    "product = {\n",
    "'Product Name': 'Martha Stewart Crafts Stencil Tape, 32292',\n",
    " 'Category': 'Arts, Crafts & Sewing | Crafting | Paper & Paper Crafts | Paper Craft Tools',\n",
    " 'About Product': 'Create plaids, stripes and checkerboards | Low tack adhesive | Easily removed | Holds stencils securely in place | Prevents run under of paint'\n",
    " }\n",
    "\n",
    "image_url = \"https://images-na.ssl-images-amazon.com/images/I/41gxmYiDaRL.jpg%7Chttps://images-na.ssl-images-amazon.com/images/G/01/x-locale/common/transparent-pixel.jpg\"\n",
    "\n",
    "query_response, query_history = model.query_users(users, product, profile_history, image_url=image_url)\n",
    "\n",
    "print(query_response)"
   ]
  },
  {
   "cell_type": "code",
   "execution_count": 5,
   "metadata": {},
   "outputs": [
    {
     "name": "stdout",
     "output_type": "stream",
     "text": [
      "{\n",
      "\"feedback\": \"Most users find the Martha Stewart Crafts Stencil Tape to be a versatile and useful product for personalizing their clothing and accessories, particularly for creative and active individuals.\",\n",
      "\"positive\": [\n",
      "\"The low-tack adhesive and easy removal allow users to experiment with different patterns without permanently altering their items.\",\n",
      "\"The stencil tape is suitable for a wide range of applications, from customizing outdoor gear to enhancing artistic clothing.\",\n",
      "\"Users appreciate the product's ability to help them express their individuality and creativity through their personal style.\"\n",
      "],\n",
      "\"improvement\": [\n",
      "\"Offering the tape in a wider range of colors and patterns would better cater to the diverse needs and preferences of users.\",\n",
      "\"For outdoor enthusiasts, providing more rugged, outdoor-oriented designs or colors would be beneficial.\",\n",
      "\"Expanding the product line to include sports-focused designs or colors could make it more appealing to active individuals.\"\n",
      "],\n",
      "\"image_recommendation\": \"The image of the product provides a clear and accurate representation of the Martha Stewart Crafts Stencil Tape, highlighting its key features and design. No major improvements to the image are necessary.\"\n",
      "}\n"
     ]
    }
   ],
   "source": [
    "evaluation_response, evaluation_history = model.generate_evaluation(query_history)\n",
    "\n",
    "print(evaluation_response)"
   ]
  },
  {
   "cell_type": "code",
   "execution_count": 6,
   "metadata": {},
   "outputs": [
    {
     "name": "stdout",
     "output_type": "stream",
     "text": [
      "The Martha Stewart Crafts Stencil Tape is a versatile and user-friendly tool designed to help creative and active individuals personalize their wardrobe and accessories. Featuring a low-tack adhesive and easy removal, this stencil tape allows users to experiment with a variety of patterns and designs, from intricate artwork to bold, sporty motifs. Whether you're a fashion-forward art student looking to customize your vintage-inspired dresses or an outdoor enthusiast seeking to add unique flair to your hiking gear, this product empowers you to express your individuality through your personal style.\n"
     ]
    }
   ],
   "source": [
    "desc_response, desc_history = model.generate_new_description(evaluation_history)\n",
    "\n",
    "print(desc_response)"
   ]
  },
  {
   "cell_type": "code",
   "execution_count": 7,
   "metadata": {},
   "outputs": [],
   "source": [
    "from evaluator.aggregate import *"
   ]
  },
  {
   "cell_type": "code",
   "execution_count": 8,
   "metadata": {},
   "outputs": [
    {
     "name": "stdout",
     "output_type": "stream",
     "text": [
      "[\n",
      "{\n",
      "\"id\": 1,\n",
      "\"rating\": 4,\n",
      "\"explanation\": \"Takeshi, the 27-year-old sports enthusiast, would likely find the Martha Stewart Crafts Stencil Tape useful for his active lifestyle. He could use it to create custom designs on his outdoor gear, such as his hiking boots or athletic jackets, to make them more personalized and unique. The low-tack adhesive and easy removal would allow him to experiment with different patterns without permanently altering his clothing.\",\n",
      "\"improvement\": \"To make the product more attractive to Takeshi, the manufacturer could consider offering the stencil tape in a wider range of colors and patterns that would better suit his sporty and outdoor-oriented wardrobe.\",\n",
      "\"action\": \"purchase\"\n",
      "},\n",
      "{\n",
      "\"id\": 2,\n",
      "\"rating\": 5,\n",
      "\"explanation\": \"Mei, the 19-year-old art student in Osaka, would greatly appreciate the Martha Stewart Crafts Stencil Tape. As a creative individual, she would use it to add unique and personalized designs to her vintage-inspired dresses, funky accessories, and other clothing items. The ability to create custom patterns and the ease of use would appeal to her artistic sensibilities.\",\n",
      "\"improvement\": \"Since Mei is already likely to find this product very appealing, no major improvements are necessary. However, the manufacturer could consider offering the tape in a wider variety of colors to further cater to the needs of creative individuals like Mei.\",\n",
      "\"action\": \"purchase\"\n",
      "},\n",
      "{\n",
      "\"id\": 3,\n",
      "\"rating\": 4,\n",
      "\"explanation\": \"Hiroshi, the 35-year-old outdoor enthusiast in Kyoto, would appreciate the Martha Stewart Crafts Stencil Tape for its ability to customize his outdoor gear. He could use it to add unique designs or patterns to his hiking boots, weatherproof jackets, and other durable clothing items, allowing him to personalize his gear and make it stand out.\",\n",
      "\"improvement\": \"To better suit Hiroshi's needs, the manufacturer could consider offering the stencil tape in more rugged, outdoor-oriented designs or colors that would better complement the aesthetic of his outdoor equipment.\",\n",
      "\"action\": \"purchase\"\n",
      "},\n",
      "{\n",
      "\"id\": 4,\n",
      "\"rating\": 5,\n",
      "\"explanation\": \"Aiko, the 22-year-old art student in Sapporo, would be highly interested in the Martha Stewart Crafts Stencil Tape. As an artistic individual, she would use it to add unique and personalized designs to her bohemian-inspired dresses, colorful scarves, and other clothing items. The versatility of the product would allow her to experiment with different patterns and textures, aligning with her creative spirit.\",\n",
      "\"improvement\": \"Given Aiko's strong interest in the product, no major improvements are necessary. However, the manufacturer could consider offering the tape in a wider range of colors and patterns to further cater to the needs of creative individuals like Aiko.\",\n",
      "\"action\": \"purchase\"\n",
      "},\n",
      "{\n",
      "\"id\": 5,\n",
      "\"rating\": 4,\n",
      "\"explanation\": \"Ryuichi, the 29-year-old outdoor enthusiast in Nagoya, would find the Martha Stewart Crafts Stencil Tape useful for customizing his outdoor gear. He could use it to add unique designs or patterns to his rugged hiking boots, weatherproof jackets, and other durable clothing items, allowing him to personalize his gear and make it stand out.\",\n",
      "\"improvement\": \"Similar to Hiroshi, Ryuichi would benefit from the stencil tape being offered in more outdoor-oriented designs or colors that would better complement the aesthetic of his outdoor equipment.\",\n",
      "\"action\": \"purchase\"\n",
      "},\n",
      "{\n",
      "\"id\": 6,\n",
      "\"rating\": 5,\n",
      "\"explanation\": \"Sakura, the 20-year-old art student in Kobe, would be highly interested in the Martha Stewart Crafts Stencil Tape. As a creative individual, she would use it to add unique and personalized designs to her vintage-inspired dresses, colorful scarves, and other clothing items. The versatility of the product would allow her to experiment with different patterns and textures, aligning with her artistic spirit.\",\n",
      "\"improvement\": \"Given Sakura's strong interest in the product, no major improvements are necessary. However, the manufacturer could consider offering the tape in a wider range of colors and patterns to further cater to the needs of creative individuals like Sakura.\",\n",
      "\"action\": \"purchase\"\n",
      "},\n",
      "{\n",
      "\"id\": 7,\n",
      "\"rating\": 4,\n",
      "\"explanation\": \"Takumi, the 32-year-old sports enthusiast in Yokohama, would find the Martha Stewart Crafts Stencil Tape useful for customizing his athletic clothing. He could use it to add unique designs or patterns to his running shoes, moisture-wicking shirts, and other performance-oriented items, allowing him to personalize his gear and make it stand out.\",\n",
      "\"improvement\": \"Similar to Takeshi and Ryuichi, Takumi would benefit from the stencil tape being offered in more sports-oriented designs or colors that would better complement the aesthetic of his athletic wardrobe.\",\n",
      "\"action\": \"purchase\"\n",
      "},\n",
      "{\n",
      "\"id\": 8,\n",
      "\"rating\": 5,\n",
      "\"explanation\": \"Haruka, the 24-year-old art student in Kobe, would be highly interested in the Martha Stewart Crafts Stencil Tape. As a creative individual, she would use it to add unique and personalized designs to her bohemian-inspired dresses, colorful scarves, and other clothing items. The versatility of the product would allow her to experiment with different patterns and textures, aligning with her artistic spirit.\",\n",
      "\"improvement\": \"Given Haruka's strong interest in the product, no major improvements are necessary. However, the manufacturer could consider offering the tape in a wider range of colors and patterns to further cater to the needs of creative individuals like Haruka.\",\n",
      "\"action\": \"purchase\"\n",
      "},\n",
      "{\n",
      "\"id\": 9,\n",
      "\"rating\": 4,\n",
      "\"explanation\": \"Atsushi, the 38-year-old outdoor enthusiast in Hiroshima, would find the Martha Stewart Crafts Stencil Tape useful for customizing his outdoor gear. He could use it to add unique designs or patterns to his rugged hiking boots, weatherproof jackets, and other durable clothing items, allowing him to personalize his gear and make it stand out.\",\n",
      "\"improvement\": \"Similar to Hiroshi and Ryuichi, Atsushi would benefit from the stencil tape being offered in more outdoor-oriented designs or colors that would better complement the aesthetic of his outdoor equipment.\",\n",
      "\"action\": \"purchase\"\n",
      "},\n",
      "{\n",
      "\"id\": 10,\n",
      "\"rating\": 5,\n",
      "\"explanation\": \"Emi, the 21-year-old art student in Sapporo, would be highly interested in the Martha Stewart Crafts Stencil Tape. As a creative individual, she would use it to add unique and personalized designs to her vintage-inspired dresses, funky accessories, and other clothing items. The versatility of the product would allow her to experiment with different patterns and textures, aligning with her artistic spirit.\",\n",
      "\"improvement\": \"Given Emi's strong interest in the product, no major improvements are necessary. However, the manufacturer could consider offering the tape in a wider range of colors and patterns to further cater to the needs of creative individuals like Emi.\",\n",
      "\"action\": \"purchase\"\n",
      "}\n",
      "]\n"
     ]
    }
   ],
   "source": [
    "print(query_response)"
   ]
  },
  {
   "cell_type": "code",
   "execution_count": 9,
   "metadata": {},
   "outputs": [],
   "source": [
    "query_response_json = json.loads(query_response)"
   ]
  },
  {
   "cell_type": "code",
   "execution_count": 10,
   "metadata": {},
   "outputs": [
    {
     "data": {
      "text/plain": [
       "4.5"
      ]
     },
     "execution_count": 10,
     "metadata": {},
     "output_type": "execute_result"
    }
   ],
   "source": [
    "average_rating(query_response_json)"
   ]
  },
  {
   "cell_type": "code",
   "execution_count": 11,
   "metadata": {},
   "outputs": [
    {
     "data": {
      "text/plain": [
       "{'purchase': 10, 'like': 0, 'view': 0, 'total': 10}"
      ]
     },
     "execution_count": 11,
     "metadata": {},
     "output_type": "execute_result"
    }
   ],
   "source": [
    "action_breakdown(query_response_json)"
   ]
  }
 ],
 "metadata": {
  "kernelspec": {
   "display_name": "venv",
   "language": "python",
   "name": "python3"
  },
  "language_info": {
   "codemirror_mode": {
    "name": "ipython",
    "version": 3
   },
   "file_extension": ".py",
   "mimetype": "text/x-python",
   "name": "python",
   "nbconvert_exporter": "python",
   "pygments_lexer": "ipython3",
   "version": "3.12.7"
  }
 },
 "nbformat": 4,
 "nbformat_minor": 2
}
